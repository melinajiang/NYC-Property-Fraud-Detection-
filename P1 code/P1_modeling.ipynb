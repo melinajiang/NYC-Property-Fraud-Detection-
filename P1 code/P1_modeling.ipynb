{
 "cells": [
  {
   "cell_type": "code",
   "execution_count": 95,
   "metadata": {},
   "outputs": [],
   "source": [
    "import pandas as pd\n",
    "import numpy as np\n",
    "import matplotlib.pyplot as plt\n",
    "import seaborn as sns\n",
    "import math\n",
    "import scipy.stats as sps \n",
    "from keras.models import Model, load_model\n",
    "from keras.layers import Input, Dense\n",
    "from keras.callbacks import ModelCheckpoint\n",
    "from keras import regularizers\n",
    "from sklearn.model_selection import train_test_split\n",
    "from sklearn.preprocessing import StandardScaler\n",
    "from sklearn.metrics import roc_curve, auc, precision_recall_curve \n",
    "from sklearn.decomposition import PCA\n",
    "%matplotlib inline"
   ]
  },
  {
   "cell_type": "markdown",
   "metadata": {},
   "source": [
    "## Read Data"
   ]
  },
  {
   "cell_type": "code",
   "execution_count": 96,
   "metadata": {},
   "outputs": [],
   "source": [
    "df = pd.read_csv('NY property data.csv')"
   ]
  },
  {
   "cell_type": "code",
   "execution_count": 97,
   "metadata": {},
   "outputs": [
    {
     "data": {
      "text/html": [
       "<div>\n",
       "<style scoped>\n",
       "    .dataframe tbody tr th:only-of-type {\n",
       "        vertical-align: middle;\n",
       "    }\n",
       "\n",
       "    .dataframe tbody tr th {\n",
       "        vertical-align: top;\n",
       "    }\n",
       "\n",
       "    .dataframe thead th {\n",
       "        text-align: right;\n",
       "    }\n",
       "</style>\n",
       "<table border=\"1\" class=\"dataframe\">\n",
       "  <thead>\n",
       "    <tr style=\"text-align: right;\">\n",
       "      <th></th>\n",
       "      <th>RECORD</th>\n",
       "      <th>BBLE</th>\n",
       "      <th>B</th>\n",
       "      <th>BLOCK</th>\n",
       "      <th>LOT</th>\n",
       "      <th>EASEMENT</th>\n",
       "      <th>OWNER</th>\n",
       "      <th>BLDGCL</th>\n",
       "      <th>TAXCLASS</th>\n",
       "      <th>LTFRONT</th>\n",
       "      <th>...</th>\n",
       "      <th>BLDFRONT</th>\n",
       "      <th>BLDDEPTH</th>\n",
       "      <th>AVLAND2</th>\n",
       "      <th>AVTOT2</th>\n",
       "      <th>EXLAND2</th>\n",
       "      <th>EXTOT2</th>\n",
       "      <th>EXCD2</th>\n",
       "      <th>PERIOD</th>\n",
       "      <th>YEAR</th>\n",
       "      <th>VALTYPE</th>\n",
       "    </tr>\n",
       "  </thead>\n",
       "  <tbody>\n",
       "    <tr>\n",
       "      <td>0</td>\n",
       "      <td>1</td>\n",
       "      <td>1000010101</td>\n",
       "      <td>1</td>\n",
       "      <td>1</td>\n",
       "      <td>101</td>\n",
       "      <td>NaN</td>\n",
       "      <td>U S GOVT LAND &amp; BLDGS</td>\n",
       "      <td>P7</td>\n",
       "      <td>4</td>\n",
       "      <td>500</td>\n",
       "      <td>...</td>\n",
       "      <td>0</td>\n",
       "      <td>0</td>\n",
       "      <td>3775500.0</td>\n",
       "      <td>8613000.0</td>\n",
       "      <td>3775500.0</td>\n",
       "      <td>8613000.0</td>\n",
       "      <td>NaN</td>\n",
       "      <td>FINAL</td>\n",
       "      <td>2010/11</td>\n",
       "      <td>AC-TR</td>\n",
       "    </tr>\n",
       "    <tr>\n",
       "      <td>1</td>\n",
       "      <td>2</td>\n",
       "      <td>1000010201</td>\n",
       "      <td>1</td>\n",
       "      <td>1</td>\n",
       "      <td>201</td>\n",
       "      <td>NaN</td>\n",
       "      <td>U S GOVT LAND &amp; BLDGS</td>\n",
       "      <td>Z9</td>\n",
       "      <td>4</td>\n",
       "      <td>27</td>\n",
       "      <td>...</td>\n",
       "      <td>0</td>\n",
       "      <td>0</td>\n",
       "      <td>11111400.0</td>\n",
       "      <td>80690400.0</td>\n",
       "      <td>11111400.0</td>\n",
       "      <td>80690400.0</td>\n",
       "      <td>NaN</td>\n",
       "      <td>FINAL</td>\n",
       "      <td>2010/11</td>\n",
       "      <td>AC-TR</td>\n",
       "    </tr>\n",
       "    <tr>\n",
       "      <td>2</td>\n",
       "      <td>3</td>\n",
       "      <td>1000020001</td>\n",
       "      <td>1</td>\n",
       "      <td>2</td>\n",
       "      <td>1</td>\n",
       "      <td>NaN</td>\n",
       "      <td>DEPT OF GENERAL SERVI</td>\n",
       "      <td>Y7</td>\n",
       "      <td>4</td>\n",
       "      <td>709</td>\n",
       "      <td>...</td>\n",
       "      <td>709</td>\n",
       "      <td>564</td>\n",
       "      <td>32321790.0</td>\n",
       "      <td>40179510.0</td>\n",
       "      <td>32321790.0</td>\n",
       "      <td>40179510.0</td>\n",
       "      <td>NaN</td>\n",
       "      <td>FINAL</td>\n",
       "      <td>2010/11</td>\n",
       "      <td>AC-TR</td>\n",
       "    </tr>\n",
       "    <tr>\n",
       "      <td>3</td>\n",
       "      <td>4</td>\n",
       "      <td>1000020023</td>\n",
       "      <td>1</td>\n",
       "      <td>2</td>\n",
       "      <td>23</td>\n",
       "      <td>NaN</td>\n",
       "      <td>DEPARTMENT OF BUSINES</td>\n",
       "      <td>T2</td>\n",
       "      <td>4</td>\n",
       "      <td>793</td>\n",
       "      <td>...</td>\n",
       "      <td>85</td>\n",
       "      <td>551</td>\n",
       "      <td>13644000.0</td>\n",
       "      <td>15750000.0</td>\n",
       "      <td>13644000.0</td>\n",
       "      <td>15750000.0</td>\n",
       "      <td>NaN</td>\n",
       "      <td>FINAL</td>\n",
       "      <td>2010/11</td>\n",
       "      <td>AC-TR</td>\n",
       "    </tr>\n",
       "    <tr>\n",
       "      <td>4</td>\n",
       "      <td>5</td>\n",
       "      <td>1000030001</td>\n",
       "      <td>1</td>\n",
       "      <td>3</td>\n",
       "      <td>1</td>\n",
       "      <td>NaN</td>\n",
       "      <td>PARKS AND RECREATION</td>\n",
       "      <td>Q1</td>\n",
       "      <td>4</td>\n",
       "      <td>323</td>\n",
       "      <td>...</td>\n",
       "      <td>89</td>\n",
       "      <td>57</td>\n",
       "      <td>106348680.0</td>\n",
       "      <td>107758350.0</td>\n",
       "      <td>106348680.0</td>\n",
       "      <td>107758350.0</td>\n",
       "      <td>NaN</td>\n",
       "      <td>FINAL</td>\n",
       "      <td>2010/11</td>\n",
       "      <td>AC-TR</td>\n",
       "    </tr>\n",
       "  </tbody>\n",
       "</table>\n",
       "<p>5 rows × 32 columns</p>\n",
       "</div>"
      ],
      "text/plain": [
       "   RECORD        BBLE  B  BLOCK  LOT EASEMENT                  OWNER BLDGCL  \\\n",
       "0       1  1000010101  1      1  101      NaN  U S GOVT LAND & BLDGS     P7   \n",
       "1       2  1000010201  1      1  201      NaN  U S GOVT LAND & BLDGS     Z9   \n",
       "2       3  1000020001  1      2    1      NaN  DEPT OF GENERAL SERVI     Y7   \n",
       "3       4  1000020023  1      2   23      NaN  DEPARTMENT OF BUSINES     T2   \n",
       "4       5  1000030001  1      3    1      NaN   PARKS AND RECREATION     Q1   \n",
       "\n",
       "  TAXCLASS  LTFRONT  ...  BLDFRONT BLDDEPTH      AVLAND2       AVTOT2  \\\n",
       "0        4      500  ...         0        0    3775500.0    8613000.0   \n",
       "1        4       27  ...         0        0   11111400.0   80690400.0   \n",
       "2        4      709  ...       709      564   32321790.0   40179510.0   \n",
       "3        4      793  ...        85      551   13644000.0   15750000.0   \n",
       "4        4      323  ...        89       57  106348680.0  107758350.0   \n",
       "\n",
       "       EXLAND2       EXTOT2  EXCD2  PERIOD     YEAR VALTYPE  \n",
       "0    3775500.0    8613000.0    NaN   FINAL  2010/11   AC-TR  \n",
       "1   11111400.0   80690400.0    NaN   FINAL  2010/11   AC-TR  \n",
       "2   32321790.0   40179510.0    NaN   FINAL  2010/11   AC-TR  \n",
       "3   13644000.0   15750000.0    NaN   FINAL  2010/11   AC-TR  \n",
       "4  106348680.0  107758350.0    NaN   FINAL  2010/11   AC-TR  \n",
       "\n",
       "[5 rows x 32 columns]"
      ]
     },
     "execution_count": 97,
     "metadata": {},
     "output_type": "execute_result"
    }
   ],
   "source": [
    "df.head()"
   ]
  },
  {
   "cell_type": "code",
   "execution_count": 98,
   "metadata": {},
   "outputs": [
    {
     "data": {
      "text/plain": [
       "(1070994, 32)"
      ]
     },
     "execution_count": 98,
     "metadata": {},
     "output_type": "execute_result"
    }
   ],
   "source": [
    "df.shape"
   ]
  },
  {
   "cell_type": "code",
   "execution_count": 99,
   "metadata": {},
   "outputs": [
    {
     "data": {
      "text/plain": [
       "Index(['RECORD', 'BBLE', 'B', 'BLOCK', 'LOT', 'EASEMENT', 'OWNER', 'BLDGCL',\n",
       "       'TAXCLASS', 'LTFRONT', 'LTDEPTH', 'EXT', 'STORIES', 'FULLVAL', 'AVLAND',\n",
       "       'AVTOT', 'EXLAND', 'EXTOT', 'EXCD1', 'STADDR', 'ZIP', 'EXMPTCL',\n",
       "       'BLDFRONT', 'BLDDEPTH', 'AVLAND2', 'AVTOT2', 'EXLAND2', 'EXTOT2',\n",
       "       'EXCD2', 'PERIOD', 'YEAR', 'VALTYPE'],\n",
       "      dtype='object')"
      ]
     },
     "execution_count": 99,
     "metadata": {},
     "output_type": "execute_result"
    }
   ],
   "source": [
    "df.columns"
   ]
  },
  {
   "cell_type": "markdown",
   "metadata": {},
   "source": [
    "## Fill NA"
   ]
  },
  {
   "cell_type": "markdown",
   "metadata": {},
   "source": [
    "### 1.  ZIP"
   ]
  },
  {
   "cell_type": "code",
   "execution_count": 100,
   "metadata": {},
   "outputs": [],
   "source": [
    "df['BLOCK-LOT'] = df['BLOCK'].astype(str) +'-' +df['LOT'].astype(str)\n",
    "df['ZIP'] = df['ZIP'].astype(str)"
   ]
  },
  {
   "cell_type": "code",
   "execution_count": 101,
   "metadata": {},
   "outputs": [],
   "source": [
    "fill1 = df.groupby(['BLOCK'])['ZIP'].apply(pd.Series.mode)\n",
    "fill1 = fill1.to_frame()\n",
    "fill1 = fill1.reset_index().groupby('BLOCK').agg({'ZIP':'first'})"
   ]
  },
  {
   "cell_type": "code",
   "execution_count": 102,
   "metadata": {},
   "outputs": [],
   "source": [
    "fill2 = df.groupby(['B'])['ZIP'].apply(pd.Series.mode)\n",
    "fill2 = fill2.to_frame()\n",
    "fill2 = fill2.reset_index().groupby('B').agg({'ZIP':'first'})"
   ]
  },
  {
   "cell_type": "code",
   "execution_count": 103,
   "metadata": {},
   "outputs": [],
   "source": [
    "df = df.set_index('BLOCK')"
   ]
  },
  {
   "cell_type": "code",
   "execution_count": 104,
   "metadata": {},
   "outputs": [
    {
     "data": {
      "text/plain": [
       "1041104"
      ]
     },
     "execution_count": 104,
     "metadata": {},
     "output_type": "execute_result"
    }
   ],
   "source": [
    "df['ZIP'] = df['ZIP'].fillna(fill1['ZIP'])\n",
    "df['ZIP'] = df['ZIP'].replace('nan', np.nan)\n",
    "df['ZIP'].count()"
   ]
  },
  {
   "cell_type": "code",
   "execution_count": 105,
   "metadata": {},
   "outputs": [],
   "source": [
    "df = df.reset_index()"
   ]
  },
  {
   "cell_type": "code",
   "execution_count": 106,
   "metadata": {},
   "outputs": [],
   "source": [
    "df = df.set_index('B')"
   ]
  },
  {
   "cell_type": "code",
   "execution_count": 107,
   "metadata": {},
   "outputs": [],
   "source": [
    "df['ZIP'] = df['ZIP'].fillna(fill2['ZIP'])\n",
    "df['ZIP'] = df['ZIP'].replace('nan', np.nan)"
   ]
  },
  {
   "cell_type": "code",
   "execution_count": 108,
   "metadata": {},
   "outputs": [
    {
     "data": {
      "text/plain": [
       "1070994"
      ]
     },
     "execution_count": 108,
     "metadata": {},
     "output_type": "execute_result"
    }
   ],
   "source": [
    "df['ZIP'].count()"
   ]
  },
  {
   "cell_type": "code",
   "execution_count": 109,
   "metadata": {},
   "outputs": [],
   "source": [
    "df = df.reset_index()"
   ]
  },
  {
   "cell_type": "markdown",
   "metadata": {},
   "source": [
    "### 2. FULLVAL, AVLAND, AVTOT"
   ]
  },
  {
   "cell_type": "code",
   "execution_count": 110,
   "metadata": {},
   "outputs": [],
   "source": [
    "for i in ['FULLVAL', 'AVLAND', 'AVTOT','LTFRONT', 'LTDEPTH', 'BLDFRONT', 'BLDDEPTH', 'STORIES' ]:\n",
    "    df[i] = df[i].replace(0, np.nan)"
   ]
  },
  {
   "cell_type": "code",
   "execution_count": 111,
   "metadata": {},
   "outputs": [],
   "source": [
    "df['ZIP-BLDGCL-TAXCLASS'] = df['ZIP'].astype(str) +'-' +df['BLDGCL'].astype(str) +'-' +df['TAXCLASS'].astype(str)"
   ]
  },
  {
   "cell_type": "code",
   "execution_count": 112,
   "metadata": {},
   "outputs": [],
   "source": [
    "fill3 = df.groupby(['ZIP-BLDGCL-TAXCLASS']).agg({'FULLVAL':'median','AVLAND':'median', 'AVTOT':'median',\n",
    "        'LTFRONT':'median', 'LTDEPTH':'median', 'BLDFRONT':'median', 'BLDDEPTH':'median', 'STORIES':'median'})\n",
    "df = df.set_index('ZIP-BLDGCL-TAXCLASS')"
   ]
  },
  {
   "cell_type": "code",
   "execution_count": 113,
   "metadata": {},
   "outputs": [],
   "source": [
    "for i in ['FULLVAL', 'AVLAND', 'AVTOT','LTFRONT', 'LTDEPTH', 'BLDFRONT', 'BLDDEPTH', 'STORIES' ]:\n",
    "    df[i] = df[i].fillna(fill3[i])"
   ]
  },
  {
   "cell_type": "code",
   "execution_count": 114,
   "metadata": {},
   "outputs": [],
   "source": [
    "df['BLDGCL-TAXCLASS'] = df['BLDGCL'].astype(str) +'-' +df['TAXCLASS'].astype(str)"
   ]
  },
  {
   "cell_type": "code",
   "execution_count": 115,
   "metadata": {},
   "outputs": [],
   "source": [
    "fill4 = df.groupby(['BLDGCL-TAXCLASS']).agg({'FULLVAL':'median', 'AVLAND':'median', 'AVTOT':'median',\n",
    "        'LTFRONT':'median', 'LTDEPTH':'median', 'BLDFRONT':'median', 'BLDDEPTH':'median', 'STORIES':'median'})\n",
    "df = df.set_index('BLDGCL-TAXCLASS')"
   ]
  },
  {
   "cell_type": "code",
   "execution_count": 116,
   "metadata": {},
   "outputs": [],
   "source": [
    "for i in ['FULLVAL', 'AVLAND', 'AVTOT','LTFRONT', 'LTDEPTH', 'BLDFRONT', 'BLDDEPTH', 'STORIES' ]:\n",
    "    df[i] = df[i].fillna(fill4[i])"
   ]
  },
  {
   "cell_type": "code",
   "execution_count": 117,
   "metadata": {},
   "outputs": [],
   "source": [
    "fill5 = df.groupby(['TAXCLASS']).agg({'FULLVAL':'median', 'AVLAND':'median', 'AVTOT':'median',\n",
    "        'LTFRONT':'median', 'LTDEPTH':'median', 'BLDFRONT':'median', 'BLDDEPTH':'median', 'STORIES':'median'})\n",
    "df = df.set_index('TAXCLASS')"
   ]
  },
  {
   "cell_type": "code",
   "execution_count": 118,
   "metadata": {},
   "outputs": [],
   "source": [
    "for i in ['FULLVAL', 'AVLAND', 'AVTOT','LTFRONT', 'LTDEPTH', 'BLDFRONT', 'BLDDEPTH', 'STORIES' ]:\n",
    "    df[i] = df[i].fillna(fill5[i])"
   ]
  },
  {
   "cell_type": "code",
   "execution_count": 119,
   "metadata": {},
   "outputs": [
    {
     "data": {
      "text/html": [
       "<div>\n",
       "<style scoped>\n",
       "    .dataframe tbody tr th:only-of-type {\n",
       "        vertical-align: middle;\n",
       "    }\n",
       "\n",
       "    .dataframe tbody tr th {\n",
       "        vertical-align: top;\n",
       "    }\n",
       "\n",
       "    .dataframe thead th {\n",
       "        text-align: right;\n",
       "    }\n",
       "</style>\n",
       "<table border=\"1\" class=\"dataframe\">\n",
       "  <thead>\n",
       "    <tr style=\"text-align: right;\">\n",
       "      <th></th>\n",
       "      <th>TAXCLASS</th>\n",
       "      <th>B</th>\n",
       "      <th>BLOCK</th>\n",
       "      <th>RECORD</th>\n",
       "      <th>BBLE</th>\n",
       "      <th>LOT</th>\n",
       "      <th>EASEMENT</th>\n",
       "      <th>OWNER</th>\n",
       "      <th>BLDGCL</th>\n",
       "      <th>LTFRONT</th>\n",
       "      <th>...</th>\n",
       "      <th>BLDDEPTH</th>\n",
       "      <th>AVLAND2</th>\n",
       "      <th>AVTOT2</th>\n",
       "      <th>EXLAND2</th>\n",
       "      <th>EXTOT2</th>\n",
       "      <th>EXCD2</th>\n",
       "      <th>PERIOD</th>\n",
       "      <th>YEAR</th>\n",
       "      <th>VALTYPE</th>\n",
       "      <th>BLOCK-LOT</th>\n",
       "    </tr>\n",
       "  </thead>\n",
       "  <tbody>\n",
       "    <tr>\n",
       "      <td>0</td>\n",
       "      <td>4</td>\n",
       "      <td>1</td>\n",
       "      <td>1</td>\n",
       "      <td>1</td>\n",
       "      <td>1000010101</td>\n",
       "      <td>101</td>\n",
       "      <td>NaN</td>\n",
       "      <td>U S GOVT LAND &amp; BLDGS</td>\n",
       "      <td>P7</td>\n",
       "      <td>500.0</td>\n",
       "      <td>...</td>\n",
       "      <td>66.0</td>\n",
       "      <td>3775500.0</td>\n",
       "      <td>8613000.0</td>\n",
       "      <td>3775500.0</td>\n",
       "      <td>8613000.0</td>\n",
       "      <td>NaN</td>\n",
       "      <td>FINAL</td>\n",
       "      <td>2010/11</td>\n",
       "      <td>AC-TR</td>\n",
       "      <td>1-101</td>\n",
       "    </tr>\n",
       "    <tr>\n",
       "      <td>1</td>\n",
       "      <td>4</td>\n",
       "      <td>1</td>\n",
       "      <td>1</td>\n",
       "      <td>2</td>\n",
       "      <td>1000010201</td>\n",
       "      <td>201</td>\n",
       "      <td>NaN</td>\n",
       "      <td>U S GOVT LAND &amp; BLDGS</td>\n",
       "      <td>Z9</td>\n",
       "      <td>27.0</td>\n",
       "      <td>...</td>\n",
       "      <td>227.0</td>\n",
       "      <td>11111400.0</td>\n",
       "      <td>80690400.0</td>\n",
       "      <td>11111400.0</td>\n",
       "      <td>80690400.0</td>\n",
       "      <td>NaN</td>\n",
       "      <td>FINAL</td>\n",
       "      <td>2010/11</td>\n",
       "      <td>AC-TR</td>\n",
       "      <td>1-201</td>\n",
       "    </tr>\n",
       "    <tr>\n",
       "      <td>2</td>\n",
       "      <td>4</td>\n",
       "      <td>1</td>\n",
       "      <td>2</td>\n",
       "      <td>3</td>\n",
       "      <td>1000020001</td>\n",
       "      <td>1</td>\n",
       "      <td>NaN</td>\n",
       "      <td>DEPT OF GENERAL SERVI</td>\n",
       "      <td>Y7</td>\n",
       "      <td>709.0</td>\n",
       "      <td>...</td>\n",
       "      <td>564.0</td>\n",
       "      <td>32321790.0</td>\n",
       "      <td>40179510.0</td>\n",
       "      <td>32321790.0</td>\n",
       "      <td>40179510.0</td>\n",
       "      <td>NaN</td>\n",
       "      <td>FINAL</td>\n",
       "      <td>2010/11</td>\n",
       "      <td>AC-TR</td>\n",
       "      <td>2-1</td>\n",
       "    </tr>\n",
       "    <tr>\n",
       "      <td>3</td>\n",
       "      <td>4</td>\n",
       "      <td>1</td>\n",
       "      <td>2</td>\n",
       "      <td>4</td>\n",
       "      <td>1000020023</td>\n",
       "      <td>23</td>\n",
       "      <td>NaN</td>\n",
       "      <td>DEPARTMENT OF BUSINES</td>\n",
       "      <td>T2</td>\n",
       "      <td>793.0</td>\n",
       "      <td>...</td>\n",
       "      <td>551.0</td>\n",
       "      <td>13644000.0</td>\n",
       "      <td>15750000.0</td>\n",
       "      <td>13644000.0</td>\n",
       "      <td>15750000.0</td>\n",
       "      <td>NaN</td>\n",
       "      <td>FINAL</td>\n",
       "      <td>2010/11</td>\n",
       "      <td>AC-TR</td>\n",
       "      <td>2-23</td>\n",
       "    </tr>\n",
       "    <tr>\n",
       "      <td>4</td>\n",
       "      <td>4</td>\n",
       "      <td>1</td>\n",
       "      <td>3</td>\n",
       "      <td>5</td>\n",
       "      <td>1000030001</td>\n",
       "      <td>1</td>\n",
       "      <td>NaN</td>\n",
       "      <td>PARKS AND RECREATION</td>\n",
       "      <td>Q1</td>\n",
       "      <td>323.0</td>\n",
       "      <td>...</td>\n",
       "      <td>57.0</td>\n",
       "      <td>106348680.0</td>\n",
       "      <td>107758350.0</td>\n",
       "      <td>106348680.0</td>\n",
       "      <td>107758350.0</td>\n",
       "      <td>NaN</td>\n",
       "      <td>FINAL</td>\n",
       "      <td>2010/11</td>\n",
       "      <td>AC-TR</td>\n",
       "      <td>3-1</td>\n",
       "    </tr>\n",
       "  </tbody>\n",
       "</table>\n",
       "<p>5 rows × 33 columns</p>\n",
       "</div>"
      ],
      "text/plain": [
       "  TAXCLASS  B  BLOCK  RECORD        BBLE  LOT EASEMENT                  OWNER  \\\n",
       "0        4  1      1       1  1000010101  101      NaN  U S GOVT LAND & BLDGS   \n",
       "1        4  1      1       2  1000010201  201      NaN  U S GOVT LAND & BLDGS   \n",
       "2        4  1      2       3  1000020001    1      NaN  DEPT OF GENERAL SERVI   \n",
       "3        4  1      2       4  1000020023   23      NaN  DEPARTMENT OF BUSINES   \n",
       "4        4  1      3       5  1000030001    1      NaN   PARKS AND RECREATION   \n",
       "\n",
       "  BLDGCL  LTFRONT  ...  BLDDEPTH      AVLAND2       AVTOT2      EXLAND2  \\\n",
       "0     P7    500.0  ...      66.0    3775500.0    8613000.0    3775500.0   \n",
       "1     Z9     27.0  ...     227.0   11111400.0   80690400.0   11111400.0   \n",
       "2     Y7    709.0  ...     564.0   32321790.0   40179510.0   32321790.0   \n",
       "3     T2    793.0  ...     551.0   13644000.0   15750000.0   13644000.0   \n",
       "4     Q1    323.0  ...      57.0  106348680.0  107758350.0  106348680.0   \n",
       "\n",
       "        EXTOT2  EXCD2  PERIOD     YEAR  VALTYPE BLOCK-LOT  \n",
       "0    8613000.0    NaN   FINAL  2010/11    AC-TR     1-101  \n",
       "1   80690400.0    NaN   FINAL  2010/11    AC-TR     1-201  \n",
       "2   40179510.0    NaN   FINAL  2010/11    AC-TR       2-1  \n",
       "3   15750000.0    NaN   FINAL  2010/11    AC-TR      2-23  \n",
       "4  107758350.0    NaN   FINAL  2010/11    AC-TR       3-1  \n",
       "\n",
       "[5 rows x 33 columns]"
      ]
     },
     "execution_count": 119,
     "metadata": {},
     "output_type": "execute_result"
    }
   ],
   "source": [
    "df = df.reset_index()\n",
    "df.head()"
   ]
  },
  {
   "cell_type": "code",
   "execution_count": 120,
   "metadata": {},
   "outputs": [
    {
     "data": {
      "text/plain": [
       "ZIP         1070994\n",
       "FULLVAL     1070994\n",
       "AVLAND      1070994\n",
       "AVTOT       1070994\n",
       "LTFRONT     1070994\n",
       "LTDEPTH     1070994\n",
       "BLDFRONT    1070994\n",
       "BLDDEPTH    1070994\n",
       "STORIES     1070994\n",
       "dtype: int64"
      ]
     },
     "execution_count": 120,
     "metadata": {},
     "output_type": "execute_result"
    }
   ],
   "source": [
    "df[['ZIP','FULLVAL', 'AVLAND', 'AVTOT','LTFRONT', 'LTDEPTH', 'BLDFRONT', 'BLDDEPTH', 'STORIES' ]].count()"
   ]
  },
  {
   "cell_type": "markdown",
   "metadata": {},
   "source": [
    "## Variable Creation"
   ]
  },
  {
   "cell_type": "code",
   "execution_count": 121,
   "metadata": {},
   "outputs": [
    {
     "name": "stdout",
     "output_type": "stream",
     "text": [
      "<class 'pandas.core.frame.DataFrame'>\n",
      "RangeIndex: 1070994 entries, 0 to 1070993\n",
      "Data columns (total 33 columns):\n",
      "TAXCLASS     1070994 non-null object\n",
      "B            1070994 non-null int64\n",
      "BLOCK        1070994 non-null int64\n",
      "RECORD       1070994 non-null int64\n",
      "BBLE         1070994 non-null object\n",
      "LOT          1070994 non-null int64\n",
      "EASEMENT     4636 non-null object\n",
      "OWNER        1039249 non-null object\n",
      "BLDGCL       1070994 non-null object\n",
      "LTFRONT      1070994 non-null float64\n",
      "LTDEPTH      1070994 non-null float64\n",
      "EXT          354305 non-null object\n",
      "STORIES      1070994 non-null float64\n",
      "FULLVAL      1070994 non-null float64\n",
      "AVLAND       1070994 non-null float64\n",
      "AVTOT        1070994 non-null float64\n",
      "EXLAND       1070994 non-null float64\n",
      "EXTOT        1070994 non-null float64\n",
      "EXCD1        638488 non-null float64\n",
      "STADDR       1070318 non-null object\n",
      "ZIP          1070994 non-null object\n",
      "EXMPTCL      15579 non-null object\n",
      "BLDFRONT     1070994 non-null float64\n",
      "BLDDEPTH     1070994 non-null float64\n",
      "AVLAND2      282726 non-null float64\n",
      "AVTOT2       282732 non-null float64\n",
      "EXLAND2      87449 non-null float64\n",
      "EXTOT2       130828 non-null float64\n",
      "EXCD2        92948 non-null float64\n",
      "PERIOD       1070994 non-null object\n",
      "YEAR         1070994 non-null object\n",
      "VALTYPE      1070994 non-null object\n",
      "BLOCK-LOT    1070994 non-null object\n",
      "dtypes: float64(16), int64(4), object(13)\n",
      "memory usage: 269.6+ MB\n"
     ]
    }
   ],
   "source": [
    "df.info()"
   ]
  },
  {
   "cell_type": "code",
   "execution_count": 122,
   "metadata": {},
   "outputs": [],
   "source": [
    "df['lotarea'] = df['LTFRONT'] * df['LTDEPTH']\n",
    "df['bldarea'] = df['BLDFRONT'] * df['BLDDEPTH']\n",
    "df['bldvol'] = df['bldarea'] * df['STORIES']"
   ]
  },
  {
   "cell_type": "code",
   "execution_count": 123,
   "metadata": {},
   "outputs": [],
   "source": [
    "df['FV1'] =  df['FULLVAL'] /  df['lotarea']\n",
    "df['FV2'] =  df['FULLVAL'] /  df['bldarea']\n",
    "df['FV3'] = df['FULLVAL'] /  df['bldvol']"
   ]
  },
  {
   "cell_type": "code",
   "execution_count": 124,
   "metadata": {},
   "outputs": [],
   "source": [
    "df['AL1'] =  df['AVLAND'] /  df['lotarea']\n",
    "df['AL2'] =  df['AVLAND'] /  df['bldarea']\n",
    "df['AL3'] = df['AVLAND'] /  df['bldvol']"
   ]
  },
  {
   "cell_type": "code",
   "execution_count": 125,
   "metadata": {},
   "outputs": [],
   "source": [
    "df['VT1'] =  df['AVTOT'] /  df['lotarea']\n",
    "df['VT2'] =  df['AVTOT'] /  df['bldarea']\n",
    "df['VT3'] = df['AVTOT'] /  df['bldvol']"
   ]
  },
  {
   "cell_type": "code",
   "execution_count": 126,
   "metadata": {},
   "outputs": [],
   "source": [
    "df['ZIP3'] = df['ZIP'].astype(str).str[:3]"
   ]
  },
  {
   "cell_type": "code",
   "execution_count": 127,
   "metadata": {},
   "outputs": [],
   "source": [
    "l = ['lotarea','bldarea','bldvol','FV1','FV2','FV3','AL1','AL2','AL3','VT1','VT2','VT3']"
   ]
  },
  {
   "cell_type": "code",
   "execution_count": 128,
   "metadata": {},
   "outputs": [],
   "source": [
    "group1 = df.groupby('ZIP3')[l].mean()\n",
    "name1 = []\n",
    "for i in l:\n",
    "    name1.append(i+'-1')\n",
    "group1.columns = name1\n",
    "group1 = group1.reset_index()"
   ]
  },
  {
   "cell_type": "code",
   "execution_count": 129,
   "metadata": {},
   "outputs": [],
   "source": [
    "group2 = df.groupby('ZIP')[l].mean()\n",
    "name2 = []\n",
    "for i in l:\n",
    "    name2.append(i+'-2')\n",
    "group2.columns = name2\n",
    "group2 = group2.reset_index()"
   ]
  },
  {
   "cell_type": "code",
   "execution_count": 130,
   "metadata": {},
   "outputs": [],
   "source": [
    "group3 = df.groupby('TAXCLASS')[l].mean()\n",
    "name3 = []\n",
    "for i in l:\n",
    "    name3.append(i+'-3')\n",
    "group3.columns = name3\n",
    "group3 = group3.reset_index()"
   ]
  },
  {
   "cell_type": "code",
   "execution_count": 131,
   "metadata": {},
   "outputs": [],
   "source": [
    "group4 = df.groupby('BLDGCL')[l].mean()\n",
    "name4 = []\n",
    "for i in l:\n",
    "    name4.append(i+'-4')\n",
    "group4.columns = name4\n",
    "group4 = group4.reset_index()"
   ]
  },
  {
   "cell_type": "code",
   "execution_count": 132,
   "metadata": {},
   "outputs": [],
   "source": [
    "group5 = df.groupby('B')[l].mean()\n",
    "name5 = []\n",
    "for i in l:\n",
    "    name5.append(i+'-5')\n",
    "group5.columns = name5\n",
    "group5 = group5.reset_index()"
   ]
  },
  {
   "cell_type": "code",
   "execution_count": 133,
   "metadata": {},
   "outputs": [],
   "source": [
    "df = pd.merge(df,group1, how = 'left', on = 'ZIP3')\n",
    "df = pd.merge(df,group2, how = 'left', on = 'ZIP')\n",
    "df = pd.merge(df,group3, how = 'left', on = 'TAXCLASS')\n",
    "df = pd.merge(df,group4, how = 'left', on = 'BLDGCL')\n",
    "df = pd.merge(df,group5, how = 'left', on = 'B')"
   ]
  },
  {
   "cell_type": "code",
   "execution_count": 134,
   "metadata": {},
   "outputs": [],
   "source": [
    "for x in l:\n",
    "    for i in range(5):\n",
    "        new_col = x + '-d-' + str(i+1)  ## meaning x divided by 1\n",
    "        denominator = x+'-'+str(i+1)\n",
    "        df[new_col] = df[x]/df[denominator]"
   ]
  },
  {
   "cell_type": "code",
   "execution_count": 135,
   "metadata": {},
   "outputs": [
    {
     "data": {
      "text/plain": [
       "['TAXCLASS',\n",
       " 'B',\n",
       " 'BLOCK',\n",
       " 'RECORD',\n",
       " 'BBLE',\n",
       " 'LOT',\n",
       " 'EASEMENT',\n",
       " 'OWNER',\n",
       " 'BLDGCL',\n",
       " 'LTFRONT',\n",
       " 'LTDEPTH',\n",
       " 'EXT',\n",
       " 'STORIES',\n",
       " 'FULLVAL',\n",
       " 'AVLAND',\n",
       " 'AVTOT',\n",
       " 'EXLAND',\n",
       " 'EXTOT',\n",
       " 'EXCD1',\n",
       " 'STADDR',\n",
       " 'ZIP',\n",
       " 'EXMPTCL',\n",
       " 'BLDFRONT',\n",
       " 'BLDDEPTH',\n",
       " 'AVLAND2',\n",
       " 'AVTOT2',\n",
       " 'EXLAND2',\n",
       " 'EXTOT2',\n",
       " 'EXCD2',\n",
       " 'PERIOD',\n",
       " 'YEAR',\n",
       " 'VALTYPE',\n",
       " 'BLOCK-LOT',\n",
       " 'lotarea',\n",
       " 'bldarea',\n",
       " 'bldvol',\n",
       " 'FV1',\n",
       " 'FV2',\n",
       " 'FV3',\n",
       " 'AL1',\n",
       " 'AL2',\n",
       " 'AL3',\n",
       " 'VT1',\n",
       " 'VT2',\n",
       " 'VT3',\n",
       " 'ZIP3',\n",
       " 'lotarea-1',\n",
       " 'bldarea-1',\n",
       " 'bldvol-1',\n",
       " 'FV1-1',\n",
       " 'FV2-1',\n",
       " 'FV3-1',\n",
       " 'AL1-1',\n",
       " 'AL2-1',\n",
       " 'AL3-1',\n",
       " 'VT1-1',\n",
       " 'VT2-1',\n",
       " 'VT3-1',\n",
       " 'lotarea-2',\n",
       " 'bldarea-2',\n",
       " 'bldvol-2',\n",
       " 'FV1-2',\n",
       " 'FV2-2',\n",
       " 'FV3-2',\n",
       " 'AL1-2',\n",
       " 'AL2-2',\n",
       " 'AL3-2',\n",
       " 'VT1-2',\n",
       " 'VT2-2',\n",
       " 'VT3-2',\n",
       " 'lotarea-3',\n",
       " 'bldarea-3',\n",
       " 'bldvol-3',\n",
       " 'FV1-3',\n",
       " 'FV2-3',\n",
       " 'FV3-3',\n",
       " 'AL1-3',\n",
       " 'AL2-3',\n",
       " 'AL3-3',\n",
       " 'VT1-3',\n",
       " 'VT2-3',\n",
       " 'VT3-3',\n",
       " 'lotarea-4',\n",
       " 'bldarea-4',\n",
       " 'bldvol-4',\n",
       " 'FV1-4',\n",
       " 'FV2-4',\n",
       " 'FV3-4',\n",
       " 'AL1-4',\n",
       " 'AL2-4',\n",
       " 'AL3-4',\n",
       " 'VT1-4',\n",
       " 'VT2-4',\n",
       " 'VT3-4',\n",
       " 'lotarea-5',\n",
       " 'bldarea-5',\n",
       " 'bldvol-5',\n",
       " 'FV1-5',\n",
       " 'FV2-5',\n",
       " 'FV3-5',\n",
       " 'AL1-5',\n",
       " 'AL2-5',\n",
       " 'AL3-5',\n",
       " 'VT1-5',\n",
       " 'VT2-5',\n",
       " 'VT3-5',\n",
       " 'lotarea-d-1',\n",
       " 'lotarea-d-2',\n",
       " 'lotarea-d-3',\n",
       " 'lotarea-d-4',\n",
       " 'lotarea-d-5',\n",
       " 'bldarea-d-1',\n",
       " 'bldarea-d-2',\n",
       " 'bldarea-d-3',\n",
       " 'bldarea-d-4',\n",
       " 'bldarea-d-5',\n",
       " 'bldvol-d-1',\n",
       " 'bldvol-d-2',\n",
       " 'bldvol-d-3',\n",
       " 'bldvol-d-4',\n",
       " 'bldvol-d-5',\n",
       " 'FV1-d-1',\n",
       " 'FV1-d-2',\n",
       " 'FV1-d-3',\n",
       " 'FV1-d-4',\n",
       " 'FV1-d-5',\n",
       " 'FV2-d-1',\n",
       " 'FV2-d-2',\n",
       " 'FV2-d-3',\n",
       " 'FV2-d-4',\n",
       " 'FV2-d-5',\n",
       " 'FV3-d-1',\n",
       " 'FV3-d-2',\n",
       " 'FV3-d-3',\n",
       " 'FV3-d-4',\n",
       " 'FV3-d-5',\n",
       " 'AL1-d-1',\n",
       " 'AL1-d-2',\n",
       " 'AL1-d-3',\n",
       " 'AL1-d-4',\n",
       " 'AL1-d-5',\n",
       " 'AL2-d-1',\n",
       " 'AL2-d-2',\n",
       " 'AL2-d-3',\n",
       " 'AL2-d-4',\n",
       " 'AL2-d-5',\n",
       " 'AL3-d-1',\n",
       " 'AL3-d-2',\n",
       " 'AL3-d-3',\n",
       " 'AL3-d-4',\n",
       " 'AL3-d-5',\n",
       " 'VT1-d-1',\n",
       " 'VT1-d-2',\n",
       " 'VT1-d-3',\n",
       " 'VT1-d-4',\n",
       " 'VT1-d-5',\n",
       " 'VT2-d-1',\n",
       " 'VT2-d-2',\n",
       " 'VT2-d-3',\n",
       " 'VT2-d-4',\n",
       " 'VT2-d-5',\n",
       " 'VT3-d-1',\n",
       " 'VT3-d-2',\n",
       " 'VT3-d-3',\n",
       " 'VT3-d-4',\n",
       " 'VT3-d-5']"
      ]
     },
     "execution_count": 135,
     "metadata": {},
     "output_type": "execute_result"
    }
   ],
   "source": [
    "list(df.columns)"
   ]
  },
  {
   "cell_type": "code",
   "execution_count": 136,
   "metadata": {},
   "outputs": [
    {
     "data": {
      "text/plain": [
       "166"
      ]
     },
     "execution_count": 136,
     "metadata": {},
     "output_type": "execute_result"
    }
   ],
   "source": [
    "len(df.columns)"
   ]
  },
  {
   "cell_type": "code",
   "execution_count": 137,
   "metadata": {},
   "outputs": [],
   "source": [
    "new_col = ['FV1-d-1',\n",
    " 'FV1-d-2',\n",
    " 'FV1-d-3',\n",
    " 'FV1-d-4',\n",
    " 'FV1-d-5',\n",
    " 'FV2-d-1',\n",
    " 'FV2-d-2',\n",
    " 'FV2-d-3',\n",
    " 'FV2-d-4',\n",
    " 'FV2-d-5',\n",
    " 'FV3-d-1',\n",
    " 'FV3-d-2',\n",
    " 'FV3-d-3',\n",
    " 'FV3-d-4',\n",
    " 'FV3-d-5',\n",
    " 'AL1-d-1',\n",
    " 'AL1-d-2',\n",
    " 'AL1-d-3',\n",
    " 'AL1-d-4',\n",
    " 'AL1-d-5',\n",
    " 'AL2-d-1',\n",
    " 'AL2-d-2',\n",
    " 'AL2-d-3',\n",
    " 'AL2-d-4',\n",
    " 'AL2-d-5',\n",
    " 'AL3-d-1',\n",
    " 'AL3-d-2',\n",
    " 'AL3-d-3',\n",
    " 'AL3-d-4',\n",
    " 'AL3-d-5',\n",
    " 'VT1-d-1',\n",
    " 'VT1-d-2',\n",
    " 'VT1-d-3',\n",
    " 'VT1-d-4',\n",
    " 'VT1-d-5',\n",
    " 'VT2-d-1',\n",
    " 'VT2-d-2',\n",
    " 'VT2-d-3',\n",
    " 'VT2-d-4',\n",
    " 'VT2-d-5',\n",
    " 'VT3-d-1',\n",
    " 'VT3-d-2',\n",
    " 'VT3-d-3',\n",
    " 'VT3-d-4',\n",
    " 'VT3-d-5']"
   ]
  },
  {
   "cell_type": "code",
   "execution_count": 138,
   "metadata": {},
   "outputs": [
    {
     "data": {
      "text/plain": [
       "45"
      ]
     },
     "execution_count": 138,
     "metadata": {},
     "output_type": "execute_result"
    }
   ],
   "source": [
    "len(new_col)"
   ]
  },
  {
   "cell_type": "code",
   "execution_count": 139,
   "metadata": {},
   "outputs": [
    {
     "data": {
      "text/html": [
       "<div>\n",
       "<style scoped>\n",
       "    .dataframe tbody tr th:only-of-type {\n",
       "        vertical-align: middle;\n",
       "    }\n",
       "\n",
       "    .dataframe tbody tr th {\n",
       "        vertical-align: top;\n",
       "    }\n",
       "\n",
       "    .dataframe thead th {\n",
       "        text-align: right;\n",
       "    }\n",
       "</style>\n",
       "<table border=\"1\" class=\"dataframe\">\n",
       "  <thead>\n",
       "    <tr style=\"text-align: right;\">\n",
       "      <th></th>\n",
       "      <th>FV1-d-1</th>\n",
       "      <th>FV1-d-2</th>\n",
       "      <th>FV1-d-3</th>\n",
       "      <th>FV1-d-4</th>\n",
       "      <th>FV1-d-5</th>\n",
       "      <th>FV2-d-1</th>\n",
       "      <th>FV2-d-2</th>\n",
       "      <th>FV2-d-3</th>\n",
       "      <th>FV2-d-4</th>\n",
       "      <th>FV2-d-5</th>\n",
       "      <th>...</th>\n",
       "      <th>VT2-d-1</th>\n",
       "      <th>VT2-d-2</th>\n",
       "      <th>VT2-d-3</th>\n",
       "      <th>VT2-d-4</th>\n",
       "      <th>VT2-d-5</th>\n",
       "      <th>VT3-d-1</th>\n",
       "      <th>VT3-d-2</th>\n",
       "      <th>VT3-d-3</th>\n",
       "      <th>VT3-d-4</th>\n",
       "      <th>VT3-d-5</th>\n",
       "    </tr>\n",
       "  </thead>\n",
       "  <tbody>\n",
       "    <tr>\n",
       "      <td>0</td>\n",
       "      <td>0.110585</td>\n",
       "      <td>0.122245</td>\n",
       "      <td>0.182677</td>\n",
       "      <td>0.043861</td>\n",
       "      <td>0.113224</td>\n",
       "      <td>14.439563</td>\n",
       "      <td>16.215731</td>\n",
       "      <td>9.557154</td>\n",
       "      <td>4.149549</td>\n",
       "      <td>14.860993</td>\n",
       "      <td>...</td>\n",
       "      <td>23.609295</td>\n",
       "      <td>17.131699</td>\n",
       "      <td>9.485691</td>\n",
       "      <td>4.149549</td>\n",
       "      <td>24.581057</td>\n",
       "      <td>18.804996</td>\n",
       "      <td>10.793297</td>\n",
       "      <td>4.395877</td>\n",
       "      <td>4.232819</td>\n",
       "      <td>19.824151</td>\n",
       "    </tr>\n",
       "    <tr>\n",
       "      <td>1</td>\n",
       "      <td>109.597100</td>\n",
       "      <td>121.153525</td>\n",
       "      <td>181.046247</td>\n",
       "      <td>532.335049</td>\n",
       "      <td>112.213371</td>\n",
       "      <td>38.533786</td>\n",
       "      <td>43.273712</td>\n",
       "      <td>25.504465</td>\n",
       "      <td>21.885579</td>\n",
       "      <td>39.658423</td>\n",
       "      <td>...</td>\n",
       "      <td>63.004366</td>\n",
       "      <td>45.718086</td>\n",
       "      <td>25.313755</td>\n",
       "      <td>21.885577</td>\n",
       "      <td>65.597633</td>\n",
       "      <td>58.547405</td>\n",
       "      <td>33.603812</td>\n",
       "      <td>13.686107</td>\n",
       "      <td>8.612672</td>\n",
       "      <td>61.720440</td>\n",
       "    </tr>\n",
       "    <tr>\n",
       "      <td>2</td>\n",
       "      <td>0.707531</td>\n",
       "      <td>0.782137</td>\n",
       "      <td>1.168789</td>\n",
       "      <td>1.683213</td>\n",
       "      <td>0.724421</td>\n",
       "      <td>0.437199</td>\n",
       "      <td>0.490977</td>\n",
       "      <td>0.289370</td>\n",
       "      <td>0.043961</td>\n",
       "      <td>0.449959</td>\n",
       "      <td>...</td>\n",
       "      <td>0.714838</td>\n",
       "      <td>0.518711</td>\n",
       "      <td>0.287206</td>\n",
       "      <td>0.043961</td>\n",
       "      <td>0.744261</td>\n",
       "      <td>0.664270</td>\n",
       "      <td>0.381264</td>\n",
       "      <td>0.155281</td>\n",
       "      <td>0.026803</td>\n",
       "      <td>0.700271</td>\n",
       "    </tr>\n",
       "    <tr>\n",
       "      <td>3</td>\n",
       "      <td>0.242462</td>\n",
       "      <td>0.268028</td>\n",
       "      <td>0.400529</td>\n",
       "      <td>0.312146</td>\n",
       "      <td>0.248250</td>\n",
       "      <td>1.397755</td>\n",
       "      <td>1.569689</td>\n",
       "      <td>0.925136</td>\n",
       "      <td>1.056686</td>\n",
       "      <td>1.438549</td>\n",
       "      <td>...</td>\n",
       "      <td>2.285388</td>\n",
       "      <td>1.658355</td>\n",
       "      <td>0.918218</td>\n",
       "      <td>1.056686</td>\n",
       "      <td>2.379455</td>\n",
       "      <td>3.185578</td>\n",
       "      <td>1.828391</td>\n",
       "      <td>0.744664</td>\n",
       "      <td>0.603871</td>\n",
       "      <td>3.358224</td>\n",
       "    </tr>\n",
       "    <tr>\n",
       "      <td>4</td>\n",
       "      <td>1.808243</td>\n",
       "      <td>1.998913</td>\n",
       "      <td>2.987083</td>\n",
       "      <td>2.435037</td>\n",
       "      <td>1.851409</td>\n",
       "      <td>89.639261</td>\n",
       "      <td>100.665519</td>\n",
       "      <td>59.329790</td>\n",
       "      <td>3.751952</td>\n",
       "      <td>92.255449</td>\n",
       "      <td>...</td>\n",
       "      <td>146.563975</td>\n",
       "      <td>106.351748</td>\n",
       "      <td>58.886151</td>\n",
       "      <td>3.751951</td>\n",
       "      <td>152.596565</td>\n",
       "      <td>408.587889</td>\n",
       "      <td>234.512715</td>\n",
       "      <td>95.511966</td>\n",
       "      <td>4.292062</td>\n",
       "      <td>430.731719</td>\n",
       "    </tr>\n",
       "  </tbody>\n",
       "</table>\n",
       "<p>5 rows × 45 columns</p>\n",
       "</div>"
      ],
      "text/plain": [
       "      FV1-d-1     FV1-d-2     FV1-d-3     FV1-d-4     FV1-d-5    FV2-d-1  \\\n",
       "0    0.110585    0.122245    0.182677    0.043861    0.113224  14.439563   \n",
       "1  109.597100  121.153525  181.046247  532.335049  112.213371  38.533786   \n",
       "2    0.707531    0.782137    1.168789    1.683213    0.724421   0.437199   \n",
       "3    0.242462    0.268028    0.400529    0.312146    0.248250   1.397755   \n",
       "4    1.808243    1.998913    2.987083    2.435037    1.851409  89.639261   \n",
       "\n",
       "      FV2-d-2    FV2-d-3    FV2-d-4    FV2-d-5  ...     VT2-d-1     VT2-d-2  \\\n",
       "0   16.215731   9.557154   4.149549  14.860993  ...   23.609295   17.131699   \n",
       "1   43.273712  25.504465  21.885579  39.658423  ...   63.004366   45.718086   \n",
       "2    0.490977   0.289370   0.043961   0.449959  ...    0.714838    0.518711   \n",
       "3    1.569689   0.925136   1.056686   1.438549  ...    2.285388    1.658355   \n",
       "4  100.665519  59.329790   3.751952  92.255449  ...  146.563975  106.351748   \n",
       "\n",
       "     VT2-d-3    VT2-d-4     VT2-d-5     VT3-d-1     VT3-d-2    VT3-d-3  \\\n",
       "0   9.485691   4.149549   24.581057   18.804996   10.793297   4.395877   \n",
       "1  25.313755  21.885577   65.597633   58.547405   33.603812  13.686107   \n",
       "2   0.287206   0.043961    0.744261    0.664270    0.381264   0.155281   \n",
       "3   0.918218   1.056686    2.379455    3.185578    1.828391   0.744664   \n",
       "4  58.886151   3.751951  152.596565  408.587889  234.512715  95.511966   \n",
       "\n",
       "    VT3-d-4     VT3-d-5  \n",
       "0  4.232819   19.824151  \n",
       "1  8.612672   61.720440  \n",
       "2  0.026803    0.700271  \n",
       "3  0.603871    3.358224  \n",
       "4  4.292062  430.731719  \n",
       "\n",
       "[5 rows x 45 columns]"
      ]
     },
     "execution_count": 139,
     "metadata": {},
     "output_type": "execute_result"
    }
   ],
   "source": [
    "newdf = df[new_col]\n",
    "newdf.head()"
   ]
  },
  {
   "cell_type": "code",
   "execution_count": 140,
   "metadata": {},
   "outputs": [
    {
     "data": {
      "text/plain": [
       "(1070994, 45)"
      ]
     },
     "execution_count": 140,
     "metadata": {},
     "output_type": "execute_result"
    }
   ],
   "source": [
    "newdf.shape"
   ]
  },
  {
   "cell_type": "code",
   "execution_count": 141,
   "metadata": {
    "scrolled": true
   },
   "outputs": [
    {
     "name": "stdout",
     "output_type": "stream",
     "text": [
      "<class 'pandas.core.frame.DataFrame'>\n",
      "Int64Index: 1070994 entries, 0 to 1070993\n",
      "Data columns (total 45 columns):\n",
      "FV1-d-1    1070994 non-null float64\n",
      "FV1-d-2    1070994 non-null float64\n",
      "FV1-d-3    1070994 non-null float64\n",
      "FV1-d-4    1070994 non-null float64\n",
      "FV1-d-5    1070994 non-null float64\n",
      "FV2-d-1    1070994 non-null float64\n",
      "FV2-d-2    1070994 non-null float64\n",
      "FV2-d-3    1070994 non-null float64\n",
      "FV2-d-4    1070994 non-null float64\n",
      "FV2-d-5    1070994 non-null float64\n",
      "FV3-d-1    1070994 non-null float64\n",
      "FV3-d-2    1070994 non-null float64\n",
      "FV3-d-3    1070994 non-null float64\n",
      "FV3-d-4    1070994 non-null float64\n",
      "FV3-d-5    1070994 non-null float64\n",
      "AL1-d-1    1070994 non-null float64\n",
      "AL1-d-2    1070994 non-null float64\n",
      "AL1-d-3    1070994 non-null float64\n",
      "AL1-d-4    1070994 non-null float64\n",
      "AL1-d-5    1070994 non-null float64\n",
      "AL2-d-1    1070994 non-null float64\n",
      "AL2-d-2    1070994 non-null float64\n",
      "AL2-d-3    1070994 non-null float64\n",
      "AL2-d-4    1070994 non-null float64\n",
      "AL2-d-5    1070994 non-null float64\n",
      "AL3-d-1    1070994 non-null float64\n",
      "AL3-d-2    1070994 non-null float64\n",
      "AL3-d-3    1070994 non-null float64\n",
      "AL3-d-4    1070994 non-null float64\n",
      "AL3-d-5    1070994 non-null float64\n",
      "VT1-d-1    1070994 non-null float64\n",
      "VT1-d-2    1070994 non-null float64\n",
      "VT1-d-3    1070994 non-null float64\n",
      "VT1-d-4    1070994 non-null float64\n",
      "VT1-d-5    1070994 non-null float64\n",
      "VT2-d-1    1070994 non-null float64\n",
      "VT2-d-2    1070994 non-null float64\n",
      "VT2-d-3    1070994 non-null float64\n",
      "VT2-d-4    1070994 non-null float64\n",
      "VT2-d-5    1070994 non-null float64\n",
      "VT3-d-1    1070994 non-null float64\n",
      "VT3-d-2    1070994 non-null float64\n",
      "VT3-d-3    1070994 non-null float64\n",
      "VT3-d-4    1070994 non-null float64\n",
      "VT3-d-5    1070994 non-null float64\n",
      "dtypes: float64(45)\n",
      "memory usage: 375.9 MB\n"
     ]
    }
   ],
   "source": [
    "newdf.info()"
   ]
  },
  {
   "cell_type": "markdown",
   "metadata": {},
   "source": [
    "## Z-scale"
   ]
  },
  {
   "cell_type": "code",
   "execution_count": 142,
   "metadata": {},
   "outputs": [
    {
     "data": {
      "text/html": [
       "<div>\n",
       "<style scoped>\n",
       "    .dataframe tbody tr th:only-of-type {\n",
       "        vertical-align: middle;\n",
       "    }\n",
       "\n",
       "    .dataframe tbody tr th {\n",
       "        vertical-align: top;\n",
       "    }\n",
       "\n",
       "    .dataframe thead th {\n",
       "        text-align: right;\n",
       "    }\n",
       "</style>\n",
       "<table border=\"1\" class=\"dataframe\">\n",
       "  <thead>\n",
       "    <tr style=\"text-align: right;\">\n",
       "      <th></th>\n",
       "      <th>FV1-d-1</th>\n",
       "      <th>FV1-d-2</th>\n",
       "      <th>FV1-d-3</th>\n",
       "      <th>FV1-d-4</th>\n",
       "      <th>FV1-d-5</th>\n",
       "      <th>FV2-d-1</th>\n",
       "      <th>FV2-d-2</th>\n",
       "      <th>FV2-d-3</th>\n",
       "      <th>FV2-d-4</th>\n",
       "      <th>FV2-d-5</th>\n",
       "      <th>...</th>\n",
       "      <th>VT2-d-1</th>\n",
       "      <th>VT2-d-2</th>\n",
       "      <th>VT2-d-3</th>\n",
       "      <th>VT2-d-4</th>\n",
       "      <th>VT2-d-5</th>\n",
       "      <th>VT3-d-1</th>\n",
       "      <th>VT3-d-2</th>\n",
       "      <th>VT3-d-3</th>\n",
       "      <th>VT3-d-4</th>\n",
       "      <th>VT3-d-5</th>\n",
       "    </tr>\n",
       "  </thead>\n",
       "  <tbody>\n",
       "    <tr>\n",
       "      <td>0</td>\n",
       "      <td>-0.089476</td>\n",
       "      <td>-0.182207</td>\n",
       "      <td>-0.141101</td>\n",
       "      <td>-0.177126</td>\n",
       "      <td>-0.060434</td>\n",
       "      <td>1.100397</td>\n",
       "      <td>1.661441</td>\n",
       "      <td>0.354087</td>\n",
       "      <td>0.501229</td>\n",
       "      <td>1.070055</td>\n",
       "      <td>...</td>\n",
       "      <td>0.656469</td>\n",
       "      <td>0.932809</td>\n",
       "      <td>0.345259</td>\n",
       "      <td>0.426468</td>\n",
       "      <td>0.539922</td>\n",
       "      <td>0.451410</td>\n",
       "      <td>0.498693</td>\n",
       "      <td>0.042385</td>\n",
       "      <td>0.469796</td>\n",
       "      <td>0.416346</td>\n",
       "    </tr>\n",
       "    <tr>\n",
       "      <td>1</td>\n",
       "      <td>10.924910</td>\n",
       "      <td>24.941876</td>\n",
       "      <td>31.082765</td>\n",
       "      <td>98.430509</td>\n",
       "      <td>7.579251</td>\n",
       "      <td>3.073170</td>\n",
       "      <td>4.615965</td>\n",
       "      <td>1.013971</td>\n",
       "      <td>3.323794</td>\n",
       "      <td>2.984393</td>\n",
       "      <td>...</td>\n",
       "      <td>1.800320</td>\n",
       "      <td>2.585807</td>\n",
       "      <td>0.989258</td>\n",
       "      <td>2.828035</td>\n",
       "      <td>1.479056</td>\n",
       "      <td>1.458999</td>\n",
       "      <td>1.660249</td>\n",
       "      <td>0.158338</td>\n",
       "      <td>1.106279</td>\n",
       "      <td>1.342993</td>\n",
       "    </tr>\n",
       "    <tr>\n",
       "      <td>2</td>\n",
       "      <td>-0.029422</td>\n",
       "      <td>-0.045225</td>\n",
       "      <td>0.029139</td>\n",
       "      <td>0.126566</td>\n",
       "      <td>-0.018781</td>\n",
       "      <td>-0.046081</td>\n",
       "      <td>-0.055581</td>\n",
       "      <td>-0.029405</td>\n",
       "      <td>-0.152147</td>\n",
       "      <td>-0.042463</td>\n",
       "      <td>...</td>\n",
       "      <td>-0.008280</td>\n",
       "      <td>-0.027830</td>\n",
       "      <td>-0.029002</td>\n",
       "      <td>-0.129454</td>\n",
       "      <td>-0.005856</td>\n",
       "      <td>-0.008512</td>\n",
       "      <td>-0.031507</td>\n",
       "      <td>-0.010543</td>\n",
       "      <td>-0.141426</td>\n",
       "      <td>-0.006629</td>\n",
       "    </tr>\n",
       "    <tr>\n",
       "      <td>3</td>\n",
       "      <td>-0.076209</td>\n",
       "      <td>-0.151945</td>\n",
       "      <td>-0.103491</td>\n",
       "      <td>-0.127426</td>\n",
       "      <td>-0.051232</td>\n",
       "      <td>0.032567</td>\n",
       "      <td>0.062206</td>\n",
       "      <td>-0.003098</td>\n",
       "      <td>0.009021</td>\n",
       "      <td>0.033856</td>\n",
       "      <td>...</td>\n",
       "      <td>0.037322</td>\n",
       "      <td>0.038069</td>\n",
       "      <td>-0.003327</td>\n",
       "      <td>0.007676</td>\n",
       "      <td>0.031585</td>\n",
       "      <td>0.055411</td>\n",
       "      <td>0.042183</td>\n",
       "      <td>-0.003187</td>\n",
       "      <td>-0.057566</td>\n",
       "      <td>0.052158</td>\n",
       "    </tr>\n",
       "    <tr>\n",
       "      <td>4</td>\n",
       "      <td>0.081310</td>\n",
       "      <td>0.207358</td>\n",
       "      <td>0.343045</td>\n",
       "      <td>0.265842</td>\n",
       "      <td>0.058024</td>\n",
       "      <td>7.257555</td>\n",
       "      <td>10.882709</td>\n",
       "      <td>2.413630</td>\n",
       "      <td>0.437954</td>\n",
       "      <td>7.044833</td>\n",
       "      <td>...</td>\n",
       "      <td>4.226504</td>\n",
       "      <td>6.091926</td>\n",
       "      <td>2.355223</td>\n",
       "      <td>0.372631</td>\n",
       "      <td>3.471022</td>\n",
       "      <td>10.333575</td>\n",
       "      <td>11.890914</td>\n",
       "      <td>1.179621</td>\n",
       "      <td>0.478405</td>\n",
       "      <td>9.504655</td>\n",
       "    </tr>\n",
       "  </tbody>\n",
       "</table>\n",
       "<p>5 rows × 45 columns</p>\n",
       "</div>"
      ],
      "text/plain": [
       "     FV1-d-1    FV1-d-2    FV1-d-3    FV1-d-4   FV1-d-5   FV2-d-1    FV2-d-2  \\\n",
       "0  -0.089476  -0.182207  -0.141101  -0.177126 -0.060434  1.100397   1.661441   \n",
       "1  10.924910  24.941876  31.082765  98.430509  7.579251  3.073170   4.615965   \n",
       "2  -0.029422  -0.045225   0.029139   0.126566 -0.018781 -0.046081  -0.055581   \n",
       "3  -0.076209  -0.151945  -0.103491  -0.127426 -0.051232  0.032567   0.062206   \n",
       "4   0.081310   0.207358   0.343045   0.265842  0.058024  7.257555  10.882709   \n",
       "\n",
       "    FV2-d-3   FV2-d-4   FV2-d-5  ...   VT2-d-1   VT2-d-2   VT2-d-3   VT2-d-4  \\\n",
       "0  0.354087  0.501229  1.070055  ...  0.656469  0.932809  0.345259  0.426468   \n",
       "1  1.013971  3.323794  2.984393  ...  1.800320  2.585807  0.989258  2.828035   \n",
       "2 -0.029405 -0.152147 -0.042463  ... -0.008280 -0.027830 -0.029002 -0.129454   \n",
       "3 -0.003098  0.009021  0.033856  ...  0.037322  0.038069 -0.003327  0.007676   \n",
       "4  2.413630  0.437954  7.044833  ...  4.226504  6.091926  2.355223  0.372631   \n",
       "\n",
       "    VT2-d-5    VT3-d-1    VT3-d-2   VT3-d-3   VT3-d-4   VT3-d-5  \n",
       "0  0.539922   0.451410   0.498693  0.042385  0.469796  0.416346  \n",
       "1  1.479056   1.458999   1.660249  0.158338  1.106279  1.342993  \n",
       "2 -0.005856  -0.008512  -0.031507 -0.010543 -0.141426 -0.006629  \n",
       "3  0.031585   0.055411   0.042183 -0.003187 -0.057566  0.052158  \n",
       "4  3.471022  10.333575  11.890914  1.179621  0.478405  9.504655  \n",
       "\n",
       "[5 rows x 45 columns]"
      ]
     },
     "execution_count": 142,
     "metadata": {},
     "output_type": "execute_result"
    }
   ],
   "source": [
    "scaler = StandardScaler()\n",
    "data = scaler.fit_transform(newdf.to_numpy())\n",
    "data = pd.DataFrame(data, columns = newdf.columns)\n",
    "data.head()"
   ]
  },
  {
   "cell_type": "code",
   "execution_count": 143,
   "metadata": {},
   "outputs": [
    {
     "data": {
      "text/plain": [
       "Index(['FV1-d-1', 'FV1-d-2', 'FV1-d-3', 'FV1-d-4', 'FV1-d-5', 'FV2-d-1',\n",
       "       'FV2-d-2', 'FV2-d-3', 'FV2-d-4', 'FV2-d-5', 'FV3-d-1', 'FV3-d-2',\n",
       "       'FV3-d-3', 'FV3-d-4', 'FV3-d-5', 'AL1-d-1', 'AL1-d-2', 'AL1-d-3',\n",
       "       'AL1-d-4', 'AL1-d-5', 'AL2-d-1', 'AL2-d-2', 'AL2-d-3', 'AL2-d-4',\n",
       "       'AL2-d-5', 'AL3-d-1', 'AL3-d-2', 'AL3-d-3', 'AL3-d-4', 'AL3-d-5',\n",
       "       'VT1-d-1', 'VT1-d-2', 'VT1-d-3', 'VT1-d-4', 'VT1-d-5', 'VT2-d-1',\n",
       "       'VT2-d-2', 'VT2-d-3', 'VT2-d-4', 'VT2-d-5', 'VT3-d-1', 'VT3-d-2',\n",
       "       'VT3-d-3', 'VT3-d-4', 'VT3-d-5'],\n",
       "      dtype='object')"
      ]
     },
     "execution_count": 143,
     "metadata": {},
     "output_type": "execute_result"
    }
   ],
   "source": [
    "data.columns"
   ]
  },
  {
   "cell_type": "code",
   "execution_count": 144,
   "metadata": {},
   "outputs": [
    {
     "data": {
      "text/plain": [
       "(1070994, 45)"
      ]
     },
     "execution_count": 144,
     "metadata": {},
     "output_type": "execute_result"
    }
   ],
   "source": [
    "data.shape"
   ]
  },
  {
   "cell_type": "code",
   "execution_count": 145,
   "metadata": {
    "scrolled": true
   },
   "outputs": [
    {
     "name": "stdout",
     "output_type": "stream",
     "text": [
      "<class 'pandas.core.frame.DataFrame'>\n",
      "RangeIndex: 1070994 entries, 0 to 1070993\n",
      "Data columns (total 45 columns):\n",
      "FV1-d-1    1070994 non-null float64\n",
      "FV1-d-2    1070994 non-null float64\n",
      "FV1-d-3    1070994 non-null float64\n",
      "FV1-d-4    1070994 non-null float64\n",
      "FV1-d-5    1070994 non-null float64\n",
      "FV2-d-1    1070994 non-null float64\n",
      "FV2-d-2    1070994 non-null float64\n",
      "FV2-d-3    1070994 non-null float64\n",
      "FV2-d-4    1070994 non-null float64\n",
      "FV2-d-5    1070994 non-null float64\n",
      "FV3-d-1    1070994 non-null float64\n",
      "FV3-d-2    1070994 non-null float64\n",
      "FV3-d-3    1070994 non-null float64\n",
      "FV3-d-4    1070994 non-null float64\n",
      "FV3-d-5    1070994 non-null float64\n",
      "AL1-d-1    1070994 non-null float64\n",
      "AL1-d-2    1070994 non-null float64\n",
      "AL1-d-3    1070994 non-null float64\n",
      "AL1-d-4    1070994 non-null float64\n",
      "AL1-d-5    1070994 non-null float64\n",
      "AL2-d-1    1070994 non-null float64\n",
      "AL2-d-2    1070994 non-null float64\n",
      "AL2-d-3    1070994 non-null float64\n",
      "AL2-d-4    1070994 non-null float64\n",
      "AL2-d-5    1070994 non-null float64\n",
      "AL3-d-1    1070994 non-null float64\n",
      "AL3-d-2    1070994 non-null float64\n",
      "AL3-d-3    1070994 non-null float64\n",
      "AL3-d-4    1070994 non-null float64\n",
      "AL3-d-5    1070994 non-null float64\n",
      "VT1-d-1    1070994 non-null float64\n",
      "VT1-d-2    1070994 non-null float64\n",
      "VT1-d-3    1070994 non-null float64\n",
      "VT1-d-4    1070994 non-null float64\n",
      "VT1-d-5    1070994 non-null float64\n",
      "VT2-d-1    1070994 non-null float64\n",
      "VT2-d-2    1070994 non-null float64\n",
      "VT2-d-3    1070994 non-null float64\n",
      "VT2-d-4    1070994 non-null float64\n",
      "VT2-d-5    1070994 non-null float64\n",
      "VT3-d-1    1070994 non-null float64\n",
      "VT3-d-2    1070994 non-null float64\n",
      "VT3-d-3    1070994 non-null float64\n",
      "VT3-d-4    1070994 non-null float64\n",
      "VT3-d-5    1070994 non-null float64\n",
      "dtypes: float64(45)\n",
      "memory usage: 367.7 MB\n"
     ]
    }
   ],
   "source": [
    "data.info()"
   ]
  },
  {
   "cell_type": "markdown",
   "metadata": {},
   "source": [
    "## PCA"
   ]
  },
  {
   "cell_type": "code",
   "execution_count": 163,
   "metadata": {},
   "outputs": [],
   "source": [
    "pca = PCA(n_components =5)\n",
    "pc = pca.fit_transform(data)\n",
    "pca_data = pd.DataFrame(data = pc)"
   ]
  },
  {
   "cell_type": "code",
   "execution_count": 164,
   "metadata": {},
   "outputs": [
    {
     "data": {
      "text/plain": [
       "array([0.41470264, 0.22209106, 0.10806754, 0.06873016, 0.05391089])"
      ]
     },
     "execution_count": 164,
     "metadata": {},
     "output_type": "execute_result"
    }
   ],
   "source": [
    "pca.explained_variance_ratio_"
   ]
  },
  {
   "cell_type": "code",
   "execution_count": 165,
   "metadata": {},
   "outputs": [
    {
     "data": {
      "text/plain": [
       "0.8675022794508433"
      ]
     },
     "execution_count": 165,
     "metadata": {},
     "output_type": "execute_result"
    }
   ],
   "source": [
    "sum(pca.explained_variance_ratio_)"
   ]
  },
  {
   "cell_type": "code",
   "execution_count": 166,
   "metadata": {},
   "outputs": [
    {
     "data": {
      "text/plain": [
       "(1070994, 5)"
      ]
     },
     "execution_count": 166,
     "metadata": {},
     "output_type": "execute_result"
    }
   ],
   "source": [
    "pca_data.shape"
   ]
  },
  {
   "cell_type": "code",
   "execution_count": 167,
   "metadata": {},
   "outputs": [
    {
     "data": {
      "text/html": [
       "<div>\n",
       "<style scoped>\n",
       "    .dataframe tbody tr th:only-of-type {\n",
       "        vertical-align: middle;\n",
       "    }\n",
       "\n",
       "    .dataframe tbody tr th {\n",
       "        vertical-align: top;\n",
       "    }\n",
       "\n",
       "    .dataframe thead th {\n",
       "        text-align: right;\n",
       "    }\n",
       "</style>\n",
       "<table border=\"1\" class=\"dataframe\">\n",
       "  <thead>\n",
       "    <tr style=\"text-align: right;\">\n",
       "      <th></th>\n",
       "      <th>0</th>\n",
       "      <th>1</th>\n",
       "      <th>2</th>\n",
       "      <th>3</th>\n",
       "      <th>4</th>\n",
       "    </tr>\n",
       "  </thead>\n",
       "  <tbody>\n",
       "    <tr>\n",
       "      <td>0</td>\n",
       "      <td>2.732942</td>\n",
       "      <td>-0.856048</td>\n",
       "      <td>-0.940361</td>\n",
       "      <td>-0.742155</td>\n",
       "      <td>-0.623999</td>\n",
       "    </tr>\n",
       "    <tr>\n",
       "      <td>1</td>\n",
       "      <td>22.225932</td>\n",
       "      <td>88.918363</td>\n",
       "      <td>-13.007838</td>\n",
       "      <td>50.930956</td>\n",
       "      <td>-43.288784</td>\n",
       "    </tr>\n",
       "    <tr>\n",
       "      <td>2</td>\n",
       "      <td>-0.163558</td>\n",
       "      <td>0.222272</td>\n",
       "      <td>0.303070</td>\n",
       "      <td>0.048150</td>\n",
       "      <td>-0.043248</td>\n",
       "    </tr>\n",
       "    <tr>\n",
       "      <td>3</td>\n",
       "      <td>0.124580</td>\n",
       "      <td>-0.271099</td>\n",
       "      <td>0.108991</td>\n",
       "      <td>-0.166599</td>\n",
       "      <td>-0.014666</td>\n",
       "    </tr>\n",
       "    <tr>\n",
       "      <td>4</td>\n",
       "      <td>37.656657</td>\n",
       "      <td>-5.534121</td>\n",
       "      <td>6.249843</td>\n",
       "      <td>-7.307947</td>\n",
       "      <td>-13.037839</td>\n",
       "    </tr>\n",
       "  </tbody>\n",
       "</table>\n",
       "</div>"
      ],
      "text/plain": [
       "           0          1          2          3          4\n",
       "0   2.732942  -0.856048  -0.940361  -0.742155  -0.623999\n",
       "1  22.225932  88.918363 -13.007838  50.930956 -43.288784\n",
       "2  -0.163558   0.222272   0.303070   0.048150  -0.043248\n",
       "3   0.124580  -0.271099   0.108991  -0.166599  -0.014666\n",
       "4  37.656657  -5.534121   6.249843  -7.307947 -13.037839"
      ]
     },
     "execution_count": 167,
     "metadata": {},
     "output_type": "execute_result"
    }
   ],
   "source": [
    "pca_data.head()"
   ]
  },
  {
   "cell_type": "markdown",
   "metadata": {},
   "source": [
    "## Z-scale"
   ]
  },
  {
   "cell_type": "code",
   "execution_count": 168,
   "metadata": {},
   "outputs": [
    {
     "data": {
      "text/html": [
       "<div>\n",
       "<style scoped>\n",
       "    .dataframe tbody tr th:only-of-type {\n",
       "        vertical-align: middle;\n",
       "    }\n",
       "\n",
       "    .dataframe tbody tr th {\n",
       "        vertical-align: top;\n",
       "    }\n",
       "\n",
       "    .dataframe thead th {\n",
       "        text-align: right;\n",
       "    }\n",
       "</style>\n",
       "<table border=\"1\" class=\"dataframe\">\n",
       "  <thead>\n",
       "    <tr style=\"text-align: right;\">\n",
       "      <th></th>\n",
       "      <th>0</th>\n",
       "      <th>1</th>\n",
       "      <th>2</th>\n",
       "      <th>3</th>\n",
       "      <th>4</th>\n",
       "    </tr>\n",
       "  </thead>\n",
       "  <tbody>\n",
       "    <tr>\n",
       "      <td>0</td>\n",
       "      <td>0.632639</td>\n",
       "      <td>-0.270786</td>\n",
       "      <td>-0.426423</td>\n",
       "      <td>-0.422002</td>\n",
       "      <td>-0.400626</td>\n",
       "    </tr>\n",
       "    <tr>\n",
       "      <td>1</td>\n",
       "      <td>5.144999</td>\n",
       "      <td>28.126757</td>\n",
       "      <td>-5.898631</td>\n",
       "      <td>28.960223</td>\n",
       "      <td>-27.792709</td>\n",
       "    </tr>\n",
       "    <tr>\n",
       "      <td>2</td>\n",
       "      <td>-0.037861</td>\n",
       "      <td>0.070309</td>\n",
       "      <td>0.137433</td>\n",
       "      <td>0.027379</td>\n",
       "      <td>-0.027766</td>\n",
       "    </tr>\n",
       "    <tr>\n",
       "      <td>3</td>\n",
       "      <td>0.028839</td>\n",
       "      <td>-0.085754</td>\n",
       "      <td>0.049424</td>\n",
       "      <td>-0.094731</td>\n",
       "      <td>-0.009416</td>\n",
       "    </tr>\n",
       "    <tr>\n",
       "      <td>4</td>\n",
       "      <td>8.717001</td>\n",
       "      <td>-1.750560</td>\n",
       "      <td>2.834101</td>\n",
       "      <td>-4.155425</td>\n",
       "      <td>-8.370687</td>\n",
       "    </tr>\n",
       "  </tbody>\n",
       "</table>\n",
       "</div>"
      ],
      "text/plain": [
       "          0          1         2          3          4\n",
       "0  0.632639  -0.270786 -0.426423  -0.422002  -0.400626\n",
       "1  5.144999  28.126757 -5.898631  28.960223 -27.792709\n",
       "2 -0.037861   0.070309  0.137433   0.027379  -0.027766\n",
       "3  0.028839  -0.085754  0.049424  -0.094731  -0.009416\n",
       "4  8.717001  -1.750560  2.834101  -4.155425  -8.370687"
      ]
     },
     "execution_count": 168,
     "metadata": {},
     "output_type": "execute_result"
    }
   ],
   "source": [
    "scaler = StandardScaler()\n",
    "normalized_pca_data = scaler.fit_transform(pca_data.to_numpy())\n",
    "normalized_pca_data = pd.DataFrame(normalized_pca_data, columns = pca_data.columns)\n",
    "normalized_pca_data.head()"
   ]
  },
  {
   "cell_type": "markdown",
   "metadata": {},
   "source": [
    "## S1"
   ]
  },
  {
   "cell_type": "code",
   "execution_count": 169,
   "metadata": {},
   "outputs": [],
   "source": [
    "s1_list = []\n",
    "for row in normalized_pca_data.values:\n",
    "    s1 =math.sqrt(sum([i*i for i in row]))\n",
    "    s1_list.append(s1)\n",
    "normalized_pca_data['s1'] = s1_list "
   ]
  },
  {
   "cell_type": "code",
   "execution_count": 170,
   "metadata": {},
   "outputs": [
    {
     "data": {
      "text/html": [
       "<div>\n",
       "<style scoped>\n",
       "    .dataframe tbody tr th:only-of-type {\n",
       "        vertical-align: middle;\n",
       "    }\n",
       "\n",
       "    .dataframe tbody tr th {\n",
       "        vertical-align: top;\n",
       "    }\n",
       "\n",
       "    .dataframe thead th {\n",
       "        text-align: right;\n",
       "    }\n",
       "</style>\n",
       "<table border=\"1\" class=\"dataframe\">\n",
       "  <thead>\n",
       "    <tr style=\"text-align: right;\">\n",
       "      <th></th>\n",
       "      <th>0</th>\n",
       "      <th>1</th>\n",
       "      <th>2</th>\n",
       "      <th>3</th>\n",
       "      <th>4</th>\n",
       "      <th>s1</th>\n",
       "    </tr>\n",
       "  </thead>\n",
       "  <tbody>\n",
       "    <tr>\n",
       "      <td>0</td>\n",
       "      <td>0.632639</td>\n",
       "      <td>-0.270786</td>\n",
       "      <td>-0.426423</td>\n",
       "      <td>-0.422002</td>\n",
       "      <td>-0.400626</td>\n",
       "      <td>0.996986</td>\n",
       "    </tr>\n",
       "    <tr>\n",
       "      <td>1</td>\n",
       "      <td>5.144999</td>\n",
       "      <td>28.126757</td>\n",
       "      <td>-5.898631</td>\n",
       "      <td>28.960223</td>\n",
       "      <td>-27.792709</td>\n",
       "      <td>49.633744</td>\n",
       "    </tr>\n",
       "    <tr>\n",
       "      <td>2</td>\n",
       "      <td>-0.037861</td>\n",
       "      <td>0.070309</td>\n",
       "      <td>0.137433</td>\n",
       "      <td>0.027379</td>\n",
       "      <td>-0.027766</td>\n",
       "      <td>0.163662</td>\n",
       "    </tr>\n",
       "    <tr>\n",
       "      <td>3</td>\n",
       "      <td>0.028839</td>\n",
       "      <td>-0.085754</td>\n",
       "      <td>0.049424</td>\n",
       "      <td>-0.094731</td>\n",
       "      <td>-0.009416</td>\n",
       "      <td>0.140324</td>\n",
       "    </tr>\n",
       "    <tr>\n",
       "      <td>4</td>\n",
       "      <td>8.717001</td>\n",
       "      <td>-1.750560</td>\n",
       "      <td>2.834101</td>\n",
       "      <td>-4.155425</td>\n",
       "      <td>-8.370687</td>\n",
       "      <td>13.206766</td>\n",
       "    </tr>\n",
       "  </tbody>\n",
       "</table>\n",
       "</div>"
      ],
      "text/plain": [
       "          0          1         2          3          4         s1\n",
       "0  0.632639  -0.270786 -0.426423  -0.422002  -0.400626   0.996986\n",
       "1  5.144999  28.126757 -5.898631  28.960223 -27.792709  49.633744\n",
       "2 -0.037861   0.070309  0.137433   0.027379  -0.027766   0.163662\n",
       "3  0.028839  -0.085754  0.049424  -0.094731  -0.009416   0.140324\n",
       "4  8.717001  -1.750560  2.834101  -4.155425  -8.370687  13.206766"
      ]
     },
     "execution_count": 170,
     "metadata": {},
     "output_type": "execute_result"
    }
   ],
   "source": [
    "normalized_pca_data.head()"
   ]
  },
  {
   "cell_type": "code",
   "execution_count": 171,
   "metadata": {},
   "outputs": [
    {
     "data": {
      "text/plain": [
       "<matplotlib.axes._subplots.AxesSubplot at 0x144802fd0>"
      ]
     },
     "execution_count": 171,
     "metadata": {},
     "output_type": "execute_result"
    },
    {
     "data": {
      "image/png": "[encoded data removed]",
      "text/plain": [
       "<Figure size 1080x576 with 1 Axes>"
      ]
     },
     "metadata": {
      "needs_background": "light"
     },
     "output_type": "display_data"
    }
   ],
   "source": [
    "plt.figure(figsize=(15, 8))\n",
    "sns.boxplot(x='s1', data=normalized_pca_data)"
   ]
  },
  {
   "cell_type": "code",
   "execution_count": 172,
   "metadata": {},
   "outputs": [
    {
     "data": {
      "text/plain": [
       "<function matplotlib.pyplot.show(*args, **kw)>"
      ]
     },
     "execution_count": 172,
     "metadata": {},
     "output_type": "execute_result"
    },
    {
     "data": {
      "image/png": "[encoded data removed]",
      "text/plain": [
       "<Figure size 1080x504 with 1 Axes>"
      ]
     },
     "metadata": {
      "needs_background": "light"
     },
     "output_type": "display_data"
    }
   ],
   "source": [
    "plt.figure(figsize=(15, 7))\n",
    "xhigh=1000\n",
    "plt.xlim(0,xhigh)\n",
    "temp = normalized_pca_data[normalized_pca_data[\"s1\"]<xhigh]\n",
    "ax = sns.distplot(temp['s1'],bins=100, kde=False)\n",
    "ax.set_yscale('log')\n",
    "plt.show"
   ]
  },
  {
   "cell_type": "markdown",
   "metadata": {},
   "source": [
    "## Autoencoder"
   ]
  },
  {
   "cell_type": "code",
   "execution_count": 173,
   "metadata": {},
   "outputs": [],
   "source": [
    "small_s1 = normalized_pca_data[normalized_pca_data[\"s1\"]<=1]\n",
    "del small_s1[\"s1\"]"
   ]
  },
  {
   "cell_type": "code",
   "execution_count": 174,
   "metadata": {},
   "outputs": [],
   "source": [
    "X_train, X_test = train_test_split(small_s1, test_size=0.2, random_state=37)"
   ]
  },
  {
   "cell_type": "code",
   "execution_count": 175,
   "metadata": {},
   "outputs": [],
   "source": [
    "data_in = Input(shape=(X_train.shape[1],))\n",
    "\n",
    "encoded = Dense(3,activation='tanh')(data_in)\n",
    "\n",
    "decoded = Dense(5,activation='tanh')(encoded)\n",
    "\n",
    "autoencoder = Model(inputs=data_in,outputs=decoded)\n",
    "\n",
    "autoencoder.compile(optimizer='adam',loss='mean_squared_error', \n",
    "                    metrics=['accuracy'])"
   ]
  },
  {
   "cell_type": "code",
   "execution_count": 176,
   "metadata": {},
   "outputs": [
    {
     "name": "stdout",
     "output_type": "stream",
     "text": [
      "Train on 844670 samples, validate on 211168 samples\n",
      "Epoch 1/16\n",
      "844670/844670 [==============================] - 16s 19us/step - loss: 6.4735e-04 - accuracy: 0.8690 - val_loss: 3.8666e-04 - val_accuracy: 0.9031\n",
      "Epoch 2/16\n",
      "844670/844670 [==============================] - 15s 18us/step - loss: 3.9213e-04 - accuracy: 0.9030 - val_loss: 3.8443e-04 - val_accuracy: 0.9047\n",
      "Epoch 3/16\n",
      "844670/844670 [==============================] - 18s 21us/step - loss: 3.9020e-04 - accuracy: 0.9032 - val_loss: 3.8584e-04 - val_accuracy: 0.9024\n",
      "Epoch 4/16\n",
      "844670/844670 [==============================] - 17s 20us/step - loss: 3.8956e-04 - accuracy: 0.9028 - val_loss: 3.8134e-04 - val_accuracy: 0.9027\n",
      "Epoch 5/16\n",
      "844670/844670 [==============================] - 16s 19us/step - loss: 3.8916e-04 - accuracy: 0.9029 - val_loss: 3.8124e-04 - val_accuracy: 0.9031\n",
      "Epoch 6/16\n",
      "844670/844670 [==============================] - 16s 19us/step - loss: 3.8890e-04 - accuracy: 0.9029 - val_loss: 3.8057e-04 - val_accuracy: 0.9010\n",
      "Epoch 7/16\n",
      "844670/844670 [==============================] - 17s 20us/step - loss: 3.8867e-04 - accuracy: 0.9028 - val_loss: 3.8094e-04 - val_accuracy: 0.9029\n",
      "Epoch 8/16\n",
      "844670/844670 [==============================] - 17s 20us/step - loss: 3.8845e-04 - accuracy: 0.9022 - val_loss: 3.8056e-04 - val_accuracy: 0.9039\n",
      "Epoch 9/16\n",
      "844670/844670 [==============================] - 18s 22us/step - loss: 3.8839e-04 - accuracy: 0.9028 - val_loss: 3.8160e-04 - val_accuracy: 0.9003\n",
      "Epoch 10/16\n",
      "844670/844670 [==============================] - 20s 23us/step - loss: 3.8821e-04 - accuracy: 0.9028 - val_loss: 3.8098e-04 - val_accuracy: 0.9039\n",
      "Epoch 11/16\n",
      "844670/844670 [==============================] - 20s 24us/step - loss: 3.8799e-04 - accuracy: 0.9027 - val_loss: 3.7990e-04 - val_accuracy: 0.9050\n",
      "Epoch 12/16\n",
      "844670/844670 [==============================] - 21s 25us/step - loss: 3.8798e-04 - accuracy: 0.9027 - val_loss: 3.8342e-04 - val_accuracy: 0.9030\n",
      "Epoch 13/16\n",
      "844670/844670 [==============================] - 18s 22us/step - loss: 3.8793e-04 - accuracy: 0.9031 - val_loss: 3.8177e-04 - val_accuracy: 0.9010\n",
      "Epoch 14/16\n",
      "844670/844670 [==============================] - 18s 22us/step - loss: 3.8780e-04 - accuracy: 0.9030 - val_loss: 3.8033e-04 - val_accuracy: 0.9034\n",
      "Epoch 15/16\n",
      "844670/844670 [==============================] - 19s 23us/step - loss: 3.8768e-04 - accuracy: 0.9029 - val_loss: 3.8169e-04 - val_accuracy: 0.9023\n",
      "Epoch 16/16\n",
      "844670/844670 [==============================] - 22s 26us/step - loss: 3.8763e-04 - accuracy: 0.9027 - val_loss: 3.7960e-04 - val_accuracy: 0.9015\n"
     ]
    },
    {
     "data": {
      "text/plain": [
       "<keras.callbacks.callbacks.History at 0x16dffc8d0>"
      ]
     },
     "execution_count": 176,
     "metadata": {},
     "output_type": "execute_result"
    }
   ],
   "source": [
    "autoencoder.fit(X_train, X_train, epochs = 16, batch_size=64, validation_data=(X_test,X_test))"
   ]
  },
  {
   "cell_type": "code",
   "execution_count": 177,
   "metadata": {},
   "outputs": [],
   "source": [
    "pca_result = normalized_pca_data.drop([\"s1\"],axis=1)\n",
    "X = pca_result.values\n",
    "prediction = autoencoder.predict(X)"
   ]
  },
  {
   "cell_type": "markdown",
   "metadata": {},
   "source": [
    "## S2"
   ]
  },
  {
   "cell_type": "code",
   "execution_count": 178,
   "metadata": {},
   "outputs": [],
   "source": [
    "s2_list=[]\n",
    "for i in range(len(prediction)):\n",
    "    s2 = 0\n",
    "    for j in range(len(prediction[i])):\n",
    "        s2 = (X[i][j]-prediction[i][j])**2+s2\n",
    "    s2 = math.sqrt(s2)\n",
    "    s2_list.append(s2)\n",
    "    \n",
    "normalized_pca_data[\"s2\"] = s2_list"
   ]
  },
  {
   "cell_type": "code",
   "execution_count": 179,
   "metadata": {},
   "outputs": [
    {
     "data": {
      "text/html": [
       "<div>\n",
       "<style scoped>\n",
       "    .dataframe tbody tr th:only-of-type {\n",
       "        vertical-align: middle;\n",
       "    }\n",
       "\n",
       "    .dataframe tbody tr th {\n",
       "        vertical-align: top;\n",
       "    }\n",
       "\n",
       "    .dataframe thead th {\n",
       "        text-align: right;\n",
       "    }\n",
       "</style>\n",
       "<table border=\"1\" class=\"dataframe\">\n",
       "  <thead>\n",
       "    <tr style=\"text-align: right;\">\n",
       "      <th></th>\n",
       "      <th>0</th>\n",
       "      <th>1</th>\n",
       "      <th>2</th>\n",
       "      <th>3</th>\n",
       "      <th>4</th>\n",
       "      <th>s1</th>\n",
       "      <th>s2</th>\n",
       "    </tr>\n",
       "  </thead>\n",
       "  <tbody>\n",
       "    <tr>\n",
       "      <td>0</td>\n",
       "      <td>0.632639</td>\n",
       "      <td>-0.270786</td>\n",
       "      <td>-0.426423</td>\n",
       "      <td>-0.422002</td>\n",
       "      <td>-0.400626</td>\n",
       "      <td>0.996986</td>\n",
       "      <td>0.855104</td>\n",
       "    </tr>\n",
       "    <tr>\n",
       "      <td>1</td>\n",
       "      <td>5.144999</td>\n",
       "      <td>28.126757</td>\n",
       "      <td>-5.898631</td>\n",
       "      <td>28.960223</td>\n",
       "      <td>-27.792709</td>\n",
       "      <td>49.633744</td>\n",
       "      <td>48.123019</td>\n",
       "    </tr>\n",
       "    <tr>\n",
       "      <td>2</td>\n",
       "      <td>-0.037861</td>\n",
       "      <td>0.070309</td>\n",
       "      <td>0.137433</td>\n",
       "      <td>0.027379</td>\n",
       "      <td>-0.027766</td>\n",
       "      <td>0.163662</td>\n",
       "      <td>0.011439</td>\n",
       "    </tr>\n",
       "    <tr>\n",
       "      <td>3</td>\n",
       "      <td>0.028839</td>\n",
       "      <td>-0.085754</td>\n",
       "      <td>0.049424</td>\n",
       "      <td>-0.094731</td>\n",
       "      <td>-0.009416</td>\n",
       "      <td>0.140324</td>\n",
       "      <td>0.098277</td>\n",
       "    </tr>\n",
       "    <tr>\n",
       "      <td>4</td>\n",
       "      <td>8.717001</td>\n",
       "      <td>-1.750560</td>\n",
       "      <td>2.834101</td>\n",
       "      <td>-4.155425</td>\n",
       "      <td>-8.370687</td>\n",
       "      <td>13.206766</td>\n",
       "      <td>13.100645</td>\n",
       "    </tr>\n",
       "  </tbody>\n",
       "</table>\n",
       "</div>"
      ],
      "text/plain": [
       "          0          1         2          3          4         s1         s2\n",
       "0  0.632639  -0.270786 -0.426423  -0.422002  -0.400626   0.996986   0.855104\n",
       "1  5.144999  28.126757 -5.898631  28.960223 -27.792709  49.633744  48.123019\n",
       "2 -0.037861   0.070309  0.137433   0.027379  -0.027766   0.163662   0.011439\n",
       "3  0.028839  -0.085754  0.049424  -0.094731  -0.009416   0.140324   0.098277\n",
       "4  8.717001  -1.750560  2.834101  -4.155425  -8.370687  13.206766  13.100645"
      ]
     },
     "execution_count": 179,
     "metadata": {},
     "output_type": "execute_result"
    }
   ],
   "source": [
    "normalized_pca_data.head()"
   ]
  },
  {
   "cell_type": "code",
   "execution_count": 180,
   "metadata": {},
   "outputs": [
    {
     "data": {
      "text/plain": [
       "<matplotlib.axes._subplots.AxesSubplot at 0x1450c6850>"
      ]
     },
     "execution_count": 180,
     "metadata": {},
     "output_type": "execute_result"
    },
    {
     "data": {
      "image/png": "[encoded data removed]",
      "text/plain": [
       "<Figure size 1080x576 with 1 Axes>"
      ]
     },
     "metadata": {
      "needs_background": "light"
     },
     "output_type": "display_data"
    }
   ],
   "source": [
    "plt.figure(figsize=(15, 8))\n",
    "sns.boxplot(x='s2', data=normalized_pca_data)"
   ]
  },
  {
   "cell_type": "code",
   "execution_count": 185,
   "metadata": {},
   "outputs": [
    {
     "data": {
      "text/plain": [
       "<function matplotlib.pyplot.show(*args, **kw)>"
      ]
     },
     "execution_count": 185,
     "metadata": {},
     "output_type": "execute_result"
    },
    {
     "data": {
      "image/png": "[encoded data removed]",
      "text/plain": [
       "<Figure size 1080x504 with 1 Axes>"
      ]
     },
     "metadata": {
      "needs_background": "light"
     },
     "output_type": "display_data"
    }
   ],
   "source": [
    "plt.figure(figsize=(15, 7))\n",
    "xhigh=1000\n",
    "plt.xlim(0,xhigh)\n",
    "temp = normalized_pca_data[normalized_pca_data[\"s2\"]<xhigh]\n",
    "ax = sns.distplot(temp['s2'],bins=100, kde=False)\n",
    "ax.set_yscale('log')\n",
    "plt.show"
   ]
  },
  {
   "cell_type": "markdown",
   "metadata": {},
   "source": [
    "## S"
   ]
  },
  {
   "cell_type": "code",
   "execution_count": 197,
   "metadata": {},
   "outputs": [],
   "source": [
    "normalized_pca_data['s1_rank'] = normalized_pca_data[\"s1\"].rank(ascending = True)\n",
    "normalized_pca_data['s2_rank'] = normalized_pca_data[\"s2\"].rank(ascending = True)"
   ]
  },
  {
   "cell_type": "code",
   "execution_count": 198,
   "metadata": {},
   "outputs": [
    {
     "data": {
      "text/html": [
       "<div>\n",
       "<style scoped>\n",
       "    .dataframe tbody tr th:only-of-type {\n",
       "        vertical-align: middle;\n",
       "    }\n",
       "\n",
       "    .dataframe tbody tr th {\n",
       "        vertical-align: top;\n",
       "    }\n",
       "\n",
       "    .dataframe thead th {\n",
       "        text-align: right;\n",
       "    }\n",
       "</style>\n",
       "<table border=\"1\" class=\"dataframe\">\n",
       "  <thead>\n",
       "    <tr style=\"text-align: right;\">\n",
       "      <th></th>\n",
       "      <th>0</th>\n",
       "      <th>1</th>\n",
       "      <th>2</th>\n",
       "      <th>3</th>\n",
       "      <th>4</th>\n",
       "      <th>s1</th>\n",
       "      <th>s2</th>\n",
       "      <th>s</th>\n",
       "      <th>s1_rank</th>\n",
       "      <th>s2_rank</th>\n",
       "    </tr>\n",
       "  </thead>\n",
       "  <tbody>\n",
       "    <tr>\n",
       "      <td>0</td>\n",
       "      <td>0.632639</td>\n",
       "      <td>-0.270786</td>\n",
       "      <td>-0.426423</td>\n",
       "      <td>-0.422002</td>\n",
       "      <td>-0.400626</td>\n",
       "      <td>0.996986</td>\n",
       "      <td>0.855104</td>\n",
       "      <td>1060360.5</td>\n",
       "      <td>1055790.0</td>\n",
       "      <td>1064931.0</td>\n",
       "    </tr>\n",
       "    <tr>\n",
       "      <td>1</td>\n",
       "      <td>5.144999</td>\n",
       "      <td>28.126757</td>\n",
       "      <td>-5.898631</td>\n",
       "      <td>28.960223</td>\n",
       "      <td>-27.792709</td>\n",
       "      <td>49.633744</td>\n",
       "      <td>48.123019</td>\n",
       "      <td>1070874.0</td>\n",
       "      <td>1070875.0</td>\n",
       "      <td>1070873.0</td>\n",
       "    </tr>\n",
       "    <tr>\n",
       "      <td>2</td>\n",
       "      <td>-0.037861</td>\n",
       "      <td>0.070309</td>\n",
       "      <td>0.137433</td>\n",
       "      <td>0.027379</td>\n",
       "      <td>-0.027766</td>\n",
       "      <td>0.163662</td>\n",
       "      <td>0.011439</td>\n",
       "      <td>621982.0</td>\n",
       "      <td>840958.0</td>\n",
       "      <td>403006.0</td>\n",
       "    </tr>\n",
       "    <tr>\n",
       "      <td>3</td>\n",
       "      <td>0.028839</td>\n",
       "      <td>-0.085754</td>\n",
       "      <td>0.049424</td>\n",
       "      <td>-0.094731</td>\n",
       "      <td>-0.009416</td>\n",
       "      <td>0.140324</td>\n",
       "      <td>0.098277</td>\n",
       "      <td>899151.0</td>\n",
       "      <td>763725.0</td>\n",
       "      <td>1034577.0</td>\n",
       "    </tr>\n",
       "    <tr>\n",
       "      <td>4</td>\n",
       "      <td>8.717001</td>\n",
       "      <td>-1.750560</td>\n",
       "      <td>2.834101</td>\n",
       "      <td>-4.155425</td>\n",
       "      <td>-8.370687</td>\n",
       "      <td>13.206766</td>\n",
       "      <td>13.100645</td>\n",
       "      <td>1070246.0</td>\n",
       "      <td>1070181.0</td>\n",
       "      <td>1070311.0</td>\n",
       "    </tr>\n",
       "  </tbody>\n",
       "</table>\n",
       "</div>"
      ],
      "text/plain": [
       "          0          1         2          3          4         s1         s2  \\\n",
       "0  0.632639  -0.270786 -0.426423  -0.422002  -0.400626   0.996986   0.855104   \n",
       "1  5.144999  28.126757 -5.898631  28.960223 -27.792709  49.633744  48.123019   \n",
       "2 -0.037861   0.070309  0.137433   0.027379  -0.027766   0.163662   0.011439   \n",
       "3  0.028839  -0.085754  0.049424  -0.094731  -0.009416   0.140324   0.098277   \n",
       "4  8.717001  -1.750560  2.834101  -4.155425  -8.370687  13.206766  13.100645   \n",
       "\n",
       "           s    s1_rank    s2_rank  \n",
       "0  1060360.5  1055790.0  1064931.0  \n",
       "1  1070874.0  1070875.0  1070873.0  \n",
       "2   621982.0   840958.0   403006.0  \n",
       "3   899151.0   763725.0  1034577.0  \n",
       "4  1070246.0  1070181.0  1070311.0  "
      ]
     },
     "execution_count": 198,
     "metadata": {},
     "output_type": "execute_result"
    }
   ],
   "source": [
    "normalized_pca_data[\"s\"] = (normalized_pca_data[\"s1_rank\"]+normalized_pca_data[\"s2_rank\"])/2\n",
    "normalized_pca_data.head()"
   ]
  },
  {
   "cell_type": "code",
   "execution_count": 199,
   "metadata": {},
   "outputs": [
    {
     "data": {
      "text/plain": [
       "<matplotlib.axes._subplots.AxesSubplot at 0x14c2ca950>"
      ]
     },
     "execution_count": 199,
     "metadata": {},
     "output_type": "execute_result"
    },
    {
     "data": {
      "image/png": "[encoded data removed]",
      "text/plain": [
       "<Figure size 1080x576 with 1 Axes>"
      ]
     },
     "metadata": {
      "needs_background": "light"
     },
     "output_type": "display_data"
    }
   ],
   "source": [
    "plt.figure(figsize=(15, 8))\n",
    "sns.boxplot(x='s', data=normalized_pca_data)"
   ]
  },
  {
   "cell_type": "code",
   "execution_count": 211,
   "metadata": {},
   "outputs": [
    {
     "data": {
      "text/plain": [
       "<function matplotlib.pyplot.show(*args, **kw)>"
      ]
     },
     "execution_count": 211,
     "metadata": {},
     "output_type": "execute_result"
    },
    {
     "data": {
      "image/png": "[encoded data removed]",
      "text/plain": [
       "<Figure size 1080x504 with 1 Axes>"
      ]
     },
     "metadata": {
      "needs_background": "light"
     },
     "output_type": "display_data"
    }
   ],
   "source": [
    "plt.figure(figsize=(15, 7))\n",
    "xhigh=1070000\n",
    "plt.xlim(0,xhigh)\n",
    "temp = normalized_pca_data[normalized_pca_data[\"s\"]<xhigh]\n",
    "ax = sns.distplot(temp['s'],bins=100, kde=True)\n",
    "ax.set_yscale('log')\n",
    "plt.show"
   ]
  },
  {
   "cell_type": "markdown",
   "metadata": {},
   "source": [
    "## Top 10 by S"
   ]
  },
  {
   "cell_type": "code",
   "execution_count": 212,
   "metadata": {},
   "outputs": [
    {
     "data": {
      "text/html": [
       "<div>\n",
       "<style scoped>\n",
       "    .dataframe tbody tr th:only-of-type {\n",
       "        vertical-align: middle;\n",
       "    }\n",
       "\n",
       "    .dataframe tbody tr th {\n",
       "        vertical-align: top;\n",
       "    }\n",
       "\n",
       "    .dataframe thead th {\n",
       "        text-align: right;\n",
       "    }\n",
       "</style>\n",
       "<table border=\"1\" class=\"dataframe\">\n",
       "  <thead>\n",
       "    <tr style=\"text-align: right;\">\n",
       "      <th></th>\n",
       "      <th>0</th>\n",
       "      <th>1</th>\n",
       "      <th>2</th>\n",
       "      <th>3</th>\n",
       "      <th>4</th>\n",
       "      <th>s1</th>\n",
       "      <th>s2</th>\n",
       "      <th>s</th>\n",
       "      <th>s1_rank</th>\n",
       "      <th>s2_rank</th>\n",
       "    </tr>\n",
       "  </thead>\n",
       "  <tbody>\n",
       "    <tr>\n",
       "      <td>632815</td>\n",
       "      <td>643.420084</td>\n",
       "      <td>-197.410664</td>\n",
       "      <td>299.385721</td>\n",
       "      <td>548.099302</td>\n",
       "      <td>439.080422</td>\n",
       "      <td>1017.740952</td>\n",
       "      <td>1017.318186</td>\n",
       "      <td>1070994.0</td>\n",
       "      <td>1070994.0</td>\n",
       "      <td>1070994.0</td>\n",
       "    </tr>\n",
       "    <tr>\n",
       "      <td>1067359</td>\n",
       "      <td>75.936311</td>\n",
       "      <td>609.526729</td>\n",
       "      <td>-59.368520</td>\n",
       "      <td>430.093151</td>\n",
       "      <td>-326.975130</td>\n",
       "      <td>820.186949</td>\n",
       "      <td>818.651361</td>\n",
       "      <td>1070993.0</td>\n",
       "      <td>1070993.0</td>\n",
       "      <td>1070993.0</td>\n",
       "    </tr>\n",
       "    <tr>\n",
       "      <td>776305</td>\n",
       "      <td>75.283985</td>\n",
       "      <td>463.719317</td>\n",
       "      <td>32.980403</td>\n",
       "      <td>-342.624372</td>\n",
       "      <td>515.043596</td>\n",
       "      <td>777.465341</td>\n",
       "      <td>775.845173</td>\n",
       "      <td>1070992.0</td>\n",
       "      <td>1070992.0</td>\n",
       "      <td>1070992.0</td>\n",
       "    </tr>\n",
       "    <tr>\n",
       "      <td>565391</td>\n",
       "      <td>289.831238</td>\n",
       "      <td>409.729334</td>\n",
       "      <td>87.257598</td>\n",
       "      <td>-401.424341</td>\n",
       "      <td>182.691214</td>\n",
       "      <td>673.803935</td>\n",
       "      <td>672.206167</td>\n",
       "      <td>1070991.0</td>\n",
       "      <td>1070991.0</td>\n",
       "      <td>1070991.0</td>\n",
       "    </tr>\n",
       "    <tr>\n",
       "      <td>920627</td>\n",
       "      <td>129.758256</td>\n",
       "      <td>-39.133180</td>\n",
       "      <td>-298.536848</td>\n",
       "      <td>-23.923100</td>\n",
       "      <td>-3.796519</td>\n",
       "      <td>328.754603</td>\n",
       "      <td>327.695958</td>\n",
       "      <td>1070990.0</td>\n",
       "      <td>1070990.0</td>\n",
       "      <td>1070990.0</td>\n",
       "    </tr>\n",
       "    <tr>\n",
       "      <td>915468</td>\n",
       "      <td>65.326666</td>\n",
       "      <td>-20.602924</td>\n",
       "      <td>-285.191243</td>\n",
       "      <td>19.025039</td>\n",
       "      <td>75.560199</td>\n",
       "      <td>303.475526</td>\n",
       "      <td>302.503044</td>\n",
       "      <td>1070989.0</td>\n",
       "      <td>1070989.0</td>\n",
       "      <td>1070989.0</td>\n",
       "    </tr>\n",
       "    <tr>\n",
       "      <td>1067000</td>\n",
       "      <td>131.232647</td>\n",
       "      <td>-38.709133</td>\n",
       "      <td>-264.465982</td>\n",
       "      <td>-9.183644</td>\n",
       "      <td>15.994982</td>\n",
       "      <td>298.333436</td>\n",
       "      <td>297.266720</td>\n",
       "      <td>1070988.0</td>\n",
       "      <td>1070988.0</td>\n",
       "      <td>1070988.0</td>\n",
       "    </tr>\n",
       "    <tr>\n",
       "      <td>794104</td>\n",
       "      <td>94.290117</td>\n",
       "      <td>-28.124257</td>\n",
       "      <td>-246.471060</td>\n",
       "      <td>-12.961051</td>\n",
       "      <td>15.317432</td>\n",
       "      <td>266.143187</td>\n",
       "      <td>265.104648</td>\n",
       "      <td>1070987.0</td>\n",
       "      <td>1070987.0</td>\n",
       "      <td>1070987.0</td>\n",
       "    </tr>\n",
       "    <tr>\n",
       "      <td>293329</td>\n",
       "      <td>135.522977</td>\n",
       "      <td>-23.163577</td>\n",
       "      <td>98.503754</td>\n",
       "      <td>-108.638704</td>\n",
       "      <td>-172.030536</td>\n",
       "      <td>264.580596</td>\n",
       "      <td>264.400761</td>\n",
       "      <td>1070986.0</td>\n",
       "      <td>1070986.0</td>\n",
       "      <td>1070986.0</td>\n",
       "    </tr>\n",
       "    <tr>\n",
       "      <td>85885</td>\n",
       "      <td>171.684654</td>\n",
       "      <td>-40.157039</td>\n",
       "      <td>52.599711</td>\n",
       "      <td>-80.660089</td>\n",
       "      <td>-158.757256</td>\n",
       "      <td>256.056349</td>\n",
       "      <td>255.938792</td>\n",
       "      <td>1070985.0</td>\n",
       "      <td>1070985.0</td>\n",
       "      <td>1070985.0</td>\n",
       "    </tr>\n",
       "    <tr>\n",
       "      <td>501164</td>\n",
       "      <td>155.152409</td>\n",
       "      <td>-23.918623</td>\n",
       "      <td>67.336150</td>\n",
       "      <td>-107.686365</td>\n",
       "      <td>-154.888489</td>\n",
       "      <td>254.490324</td>\n",
       "      <td>254.184414</td>\n",
       "      <td>1070984.0</td>\n",
       "      <td>1070984.0</td>\n",
       "      <td>1070984.0</td>\n",
       "    </tr>\n",
       "    <tr>\n",
       "      <td>230595</td>\n",
       "      <td>22.170153</td>\n",
       "      <td>183.937182</td>\n",
       "      <td>-21.077252</td>\n",
       "      <td>140.626919</td>\n",
       "      <td>-100.436805</td>\n",
       "      <td>254.228510</td>\n",
       "      <td>252.700592</td>\n",
       "      <td>1070983.0</td>\n",
       "      <td>1070983.0</td>\n",
       "      <td>1070983.0</td>\n",
       "    </tr>\n",
       "    <tr>\n",
       "      <td>585117</td>\n",
       "      <td>169.559627</td>\n",
       "      <td>-32.017995</td>\n",
       "      <td>13.467186</td>\n",
       "      <td>-118.186168</td>\n",
       "      <td>-124.532112</td>\n",
       "      <td>243.789256</td>\n",
       "      <td>243.438876</td>\n",
       "      <td>1070982.0</td>\n",
       "      <td>1070982.0</td>\n",
       "      <td>1070982.0</td>\n",
       "    </tr>\n",
       "    <tr>\n",
       "      <td>771988</td>\n",
       "      <td>175.109875</td>\n",
       "      <td>-37.271463</td>\n",
       "      <td>20.172232</td>\n",
       "      <td>-88.883262</td>\n",
       "      <td>-133.115867</td>\n",
       "      <td>240.997132</td>\n",
       "      <td>240.660289</td>\n",
       "      <td>1070981.0</td>\n",
       "      <td>1070981.0</td>\n",
       "      <td>1070981.0</td>\n",
       "    </tr>\n",
       "    <tr>\n",
       "      <td>1070427</td>\n",
       "      <td>78.528769</td>\n",
       "      <td>-24.017096</td>\n",
       "      <td>-223.008155</td>\n",
       "      <td>-5.306741</td>\n",
       "      <td>23.971839</td>\n",
       "      <td>238.912193</td>\n",
       "      <td>237.883019</td>\n",
       "      <td>1070980.0</td>\n",
       "      <td>1070980.0</td>\n",
       "      <td>1070980.0</td>\n",
       "    </tr>\n",
       "    <tr>\n",
       "      <td>562741</td>\n",
       "      <td>80.506166</td>\n",
       "      <td>-24.985068</td>\n",
       "      <td>-206.885521</td>\n",
       "      <td>-3.251065</td>\n",
       "      <td>19.213961</td>\n",
       "      <td>224.247321</td>\n",
       "      <td>223.199440</td>\n",
       "      <td>1070979.0</td>\n",
       "      <td>1070979.0</td>\n",
       "      <td>1070979.0</td>\n",
       "    </tr>\n",
       "    <tr>\n",
       "      <td>585119</td>\n",
       "      <td>136.581007</td>\n",
       "      <td>-23.485337</td>\n",
       "      <td>16.785983</td>\n",
       "      <td>-114.767134</td>\n",
       "      <td>-118.316656</td>\n",
       "      <td>216.004694</td>\n",
       "      <td>215.718306</td>\n",
       "      <td>1070978.0</td>\n",
       "      <td>1070978.0</td>\n",
       "      <td>1070978.0</td>\n",
       "    </tr>\n",
       "    <tr>\n",
       "      <td>67128</td>\n",
       "      <td>152.087236</td>\n",
       "      <td>-22.427797</td>\n",
       "      <td>36.649629</td>\n",
       "      <td>-71.103126</td>\n",
       "      <td>-125.447501</td>\n",
       "      <td>213.937979</td>\n",
       "      <td>213.440085</td>\n",
       "      <td>1070977.0</td>\n",
       "      <td>1070977.0</td>\n",
       "      <td>1070977.0</td>\n",
       "    </tr>\n",
       "    <tr>\n",
       "      <td>1066921</td>\n",
       "      <td>73.222913</td>\n",
       "      <td>-22.107124</td>\n",
       "      <td>-196.947771</td>\n",
       "      <td>-8.573982</td>\n",
       "      <td>14.555349</td>\n",
       "      <td>211.953098</td>\n",
       "      <td>210.917500</td>\n",
       "      <td>1070976.0</td>\n",
       "      <td>1070976.0</td>\n",
       "      <td>1070976.0</td>\n",
       "    </tr>\n",
       "    <tr>\n",
       "      <td>794105</td>\n",
       "      <td>70.967495</td>\n",
       "      <td>-21.142128</td>\n",
       "      <td>-188.951750</td>\n",
       "      <td>-9.063885</td>\n",
       "      <td>14.028565</td>\n",
       "      <td>203.629795</td>\n",
       "      <td>202.596430</td>\n",
       "      <td>1070975.0</td>\n",
       "      <td>1070975.0</td>\n",
       "      <td>1070975.0</td>\n",
       "    </tr>\n",
       "  </tbody>\n",
       "</table>\n",
       "</div>"
      ],
      "text/plain": [
       "                  0           1           2           3           4  \\\n",
       "632815   643.420084 -197.410664  299.385721  548.099302  439.080422   \n",
       "1067359   75.936311  609.526729  -59.368520  430.093151 -326.975130   \n",
       "776305    75.283985  463.719317   32.980403 -342.624372  515.043596   \n",
       "565391   289.831238  409.729334   87.257598 -401.424341  182.691214   \n",
       "920627   129.758256  -39.133180 -298.536848  -23.923100   -3.796519   \n",
       "915468    65.326666  -20.602924 -285.191243   19.025039   75.560199   \n",
       "1067000  131.232647  -38.709133 -264.465982   -9.183644   15.994982   \n",
       "794104    94.290117  -28.124257 -246.471060  -12.961051   15.317432   \n",
       "293329   135.522977  -23.163577   98.503754 -108.638704 -172.030536   \n",
       "85885    171.684654  -40.157039   52.599711  -80.660089 -158.757256   \n",
       "501164   155.152409  -23.918623   67.336150 -107.686365 -154.888489   \n",
       "230595    22.170153  183.937182  -21.077252  140.626919 -100.436805   \n",
       "585117   169.559627  -32.017995   13.467186 -118.186168 -124.532112   \n",
       "771988   175.109875  -37.271463   20.172232  -88.883262 -133.115867   \n",
       "1070427   78.528769  -24.017096 -223.008155   -5.306741   23.971839   \n",
       "562741    80.506166  -24.985068 -206.885521   -3.251065   19.213961   \n",
       "585119   136.581007  -23.485337   16.785983 -114.767134 -118.316656   \n",
       "67128    152.087236  -22.427797   36.649629  -71.103126 -125.447501   \n",
       "1066921   73.222913  -22.107124 -196.947771   -8.573982   14.555349   \n",
       "794105    70.967495  -21.142128 -188.951750   -9.063885   14.028565   \n",
       "\n",
       "                  s1           s2          s    s1_rank    s2_rank  \n",
       "632815   1017.740952  1017.318186  1070994.0  1070994.0  1070994.0  \n",
       "1067359   820.186949   818.651361  1070993.0  1070993.0  1070993.0  \n",
       "776305    777.465341   775.845173  1070992.0  1070992.0  1070992.0  \n",
       "565391    673.803935   672.206167  1070991.0  1070991.0  1070991.0  \n",
       "920627    328.754603   327.695958  1070990.0  1070990.0  1070990.0  \n",
       "915468    303.475526   302.503044  1070989.0  1070989.0  1070989.0  \n",
       "1067000   298.333436   297.266720  1070988.0  1070988.0  1070988.0  \n",
       "794104    266.143187   265.104648  1070987.0  1070987.0  1070987.0  \n",
       "293329    264.580596   264.400761  1070986.0  1070986.0  1070986.0  \n",
       "85885     256.056349   255.938792  1070985.0  1070985.0  1070985.0  \n",
       "501164    254.490324   254.184414  1070984.0  1070984.0  1070984.0  \n",
       "230595    254.228510   252.700592  1070983.0  1070983.0  1070983.0  \n",
       "585117    243.789256   243.438876  1070982.0  1070982.0  1070982.0  \n",
       "771988    240.997132   240.660289  1070981.0  1070981.0  1070981.0  \n",
       "1070427   238.912193   237.883019  1070980.0  1070980.0  1070980.0  \n",
       "562741    224.247321   223.199440  1070979.0  1070979.0  1070979.0  \n",
       "585119    216.004694   215.718306  1070978.0  1070978.0  1070978.0  \n",
       "67128     213.937979   213.440085  1070977.0  1070977.0  1070977.0  \n",
       "1066921   211.953098   210.917500  1070976.0  1070976.0  1070976.0  \n",
       "794105    203.629795   202.596430  1070975.0  1070975.0  1070975.0  "
      ]
     },
     "execution_count": 212,
     "metadata": {},
     "output_type": "execute_result"
    }
   ],
   "source": [
    "normalized_pca_data.nlargest(20, \"s\", keep='first')"
   ]
  },
  {
   "cell_type": "code",
   "execution_count": 213,
   "metadata": {
    "scrolled": false
   },
   "outputs": [
    {
     "data": {
      "text/html": [
       "<div>\n",
       "<style scoped>\n",
       "    .dataframe tbody tr th:only-of-type {\n",
       "        vertical-align: middle;\n",
       "    }\n",
       "\n",
       "    .dataframe tbody tr th {\n",
       "        vertical-align: top;\n",
       "    }\n",
       "\n",
       "    .dataframe thead th {\n",
       "        text-align: right;\n",
       "    }\n",
       "</style>\n",
       "<table border=\"1\" class=\"dataframe\">\n",
       "  <thead>\n",
       "    <tr style=\"text-align: right;\">\n",
       "      <th></th>\n",
       "      <th>TAXCLASS</th>\n",
       "      <th>B</th>\n",
       "      <th>BLOCK</th>\n",
       "      <th>RECORD</th>\n",
       "      <th>BBLE</th>\n",
       "      <th>LOT</th>\n",
       "      <th>EASEMENT</th>\n",
       "      <th>OWNER</th>\n",
       "      <th>BLDGCL</th>\n",
       "      <th>LTFRONT</th>\n",
       "      <th>...</th>\n",
       "      <th>VT2-d-1</th>\n",
       "      <th>VT2-d-2</th>\n",
       "      <th>VT2-d-3</th>\n",
       "      <th>VT2-d-4</th>\n",
       "      <th>VT2-d-5</th>\n",
       "      <th>VT3-d-1</th>\n",
       "      <th>VT3-d-2</th>\n",
       "      <th>VT3-d-3</th>\n",
       "      <th>VT3-d-4</th>\n",
       "      <th>VT3-d-5</th>\n",
       "    </tr>\n",
       "  </thead>\n",
       "  <tbody>\n",
       "    <tr>\n",
       "      <td>632815</td>\n",
       "      <td>2</td>\n",
       "      <td>4</td>\n",
       "      <td>1842</td>\n",
       "      <td>632816</td>\n",
       "      <td>4018420001</td>\n",
       "      <td>1</td>\n",
       "      <td>NaN</td>\n",
       "      <td>864163 REALTY, LLC</td>\n",
       "      <td>D9</td>\n",
       "      <td>157.0</td>\n",
       "      <td>...</td>\n",
       "      <td>15686.015803</td>\n",
       "      <td>7458.827938</td>\n",
       "      <td>20939.737597</td>\n",
       "      <td>694.625638</td>\n",
       "      <td>17288.441317</td>\n",
       "      <td>23170.818249</td>\n",
       "      <td>8554.848009</td>\n",
       "      <td>81434.323963</td>\n",
       "      <td>908.838115</td>\n",
       "      <td>30577.013535</td>\n",
       "    </tr>\n",
       "    <tr>\n",
       "      <td>1067359</td>\n",
       "      <td>1</td>\n",
       "      <td>5</td>\n",
       "      <td>7853</td>\n",
       "      <td>1067360</td>\n",
       "      <td>5078530085</td>\n",
       "      <td>85</td>\n",
       "      <td>NaN</td>\n",
       "      <td>NaN</td>\n",
       "      <td>B2</td>\n",
       "      <td>1.0</td>\n",
       "      <td>...</td>\n",
       "      <td>0.535518</td>\n",
       "      <td>0.337498</td>\n",
       "      <td>1.004298</td>\n",
       "      <td>1.049661</td>\n",
       "      <td>0.535518</td>\n",
       "      <td>0.417498</td>\n",
       "      <td>0.353475</td>\n",
       "      <td>1.021426</td>\n",
       "      <td>1.062439</td>\n",
       "      <td>0.417498</td>\n",
       "    </tr>\n",
       "    <tr>\n",
       "      <td>776305</td>\n",
       "      <td>4</td>\n",
       "      <td>4</td>\n",
       "      <td>8010</td>\n",
       "      <td>776306</td>\n",
       "      <td>4080100001</td>\n",
       "      <td>1</td>\n",
       "      <td>NaN</td>\n",
       "      <td>TONY CHEN</td>\n",
       "      <td>Q9</td>\n",
       "      <td>6.0</td>\n",
       "      <td>...</td>\n",
       "      <td>12.357743</td>\n",
       "      <td>4.342417</td>\n",
       "      <td>2.532355</td>\n",
       "      <td>1.008123</td>\n",
       "      <td>13.620164</td>\n",
       "      <td>18.254413</td>\n",
       "      <td>6.218967</td>\n",
       "      <td>4.107420</td>\n",
       "      <td>1.106630</td>\n",
       "      <td>24.089155</td>\n",
       "    </tr>\n",
       "    <tr>\n",
       "      <td>565391</td>\n",
       "      <td>4</td>\n",
       "      <td>3</td>\n",
       "      <td>8590</td>\n",
       "      <td>565392</td>\n",
       "      <td>3085900700</td>\n",
       "      <td>700</td>\n",
       "      <td>NaN</td>\n",
       "      <td>U S GOVERNMENT OWNRD</td>\n",
       "      <td>V9</td>\n",
       "      <td>117.0</td>\n",
       "      <td>...</td>\n",
       "      <td>11842.789738</td>\n",
       "      <td>4844.093744</td>\n",
       "      <td>1486.909399</td>\n",
       "      <td>449.802534</td>\n",
       "      <td>11845.461392</td>\n",
       "      <td>10652.163442</td>\n",
       "      <td>3296.555223</td>\n",
       "      <td>1205.866226</td>\n",
       "      <td>449.802534</td>\n",
       "      <td>10654.683175</td>\n",
       "    </tr>\n",
       "    <tr>\n",
       "      <td>920627</td>\n",
       "      <td>1</td>\n",
       "      <td>4</td>\n",
       "      <td>15577</td>\n",
       "      <td>920628</td>\n",
       "      <td>4155770029</td>\n",
       "      <td>29</td>\n",
       "      <td>NaN</td>\n",
       "      <td>PLUCHENIK, YAAKOV</td>\n",
       "      <td>A1</td>\n",
       "      <td>91.0</td>\n",
       "      <td>...</td>\n",
       "      <td>1049.711978</td>\n",
       "      <td>1665.978271</td>\n",
       "      <td>2457.408893</td>\n",
       "      <td>2234.310919</td>\n",
       "      <td>993.419931</td>\n",
       "      <td>810.241284</td>\n",
       "      <td>1392.233296</td>\n",
       "      <td>2499.318860</td>\n",
       "      <td>2396.636111</td>\n",
       "      <td>878.500674</td>\n",
       "    </tr>\n",
       "    <tr>\n",
       "      <td>915468</td>\n",
       "      <td>1B</td>\n",
       "      <td>4</td>\n",
       "      <td>14140</td>\n",
       "      <td>915469</td>\n",
       "      <td>4141400001</td>\n",
       "      <td>1</td>\n",
       "      <td>NaN</td>\n",
       "      <td>UNITED STATES OF AMER</td>\n",
       "      <td>V0</td>\n",
       "      <td>999.0</td>\n",
       "      <td>...</td>\n",
       "      <td>291.088193</td>\n",
       "      <td>298.402986</td>\n",
       "      <td>2275.093845</td>\n",
       "      <td>2490.683439</td>\n",
       "      <td>177.061798</td>\n",
       "      <td>107.824939</td>\n",
       "      <td>81.641541</td>\n",
       "      <td>2121.490642</td>\n",
       "      <td>2490.683439</td>\n",
       "      <td>62.631684</td>\n",
       "    </tr>\n",
       "    <tr>\n",
       "      <td>1067000</td>\n",
       "      <td>1</td>\n",
       "      <td>5</td>\n",
       "      <td>7812</td>\n",
       "      <td>1067001</td>\n",
       "      <td>5078120132</td>\n",
       "      <td>132</td>\n",
       "      <td>NaN</td>\n",
       "      <td>DRANOVSKY, VLADIMIR</td>\n",
       "      <td>A3</td>\n",
       "      <td>96.0</td>\n",
       "      <td>...</td>\n",
       "      <td>2160.373254</td>\n",
       "      <td>1361.525092</td>\n",
       "      <td>4051.515183</td>\n",
       "      <td>2113.707777</td>\n",
       "      <td>2160.373254</td>\n",
       "      <td>1122.840687</td>\n",
       "      <td>950.652364</td>\n",
       "      <td>2747.074595</td>\n",
       "      <td>1568.524412</td>\n",
       "      <td>1122.840687</td>\n",
       "    </tr>\n",
       "    <tr>\n",
       "      <td>794104</td>\n",
       "      <td>1</td>\n",
       "      <td>4</td>\n",
       "      <td>8946</td>\n",
       "      <td>794105</td>\n",
       "      <td>4089460045</td>\n",
       "      <td>45</td>\n",
       "      <td>NaN</td>\n",
       "      <td>HAVEN BUILDERS, INC.</td>\n",
       "      <td>B1</td>\n",
       "      <td>37.0</td>\n",
       "      <td>...</td>\n",
       "      <td>1708.298416</td>\n",
       "      <td>1119.594947</td>\n",
       "      <td>2570.446523</td>\n",
       "      <td>2685.535320</td>\n",
       "      <td>1039.115963</td>\n",
       "      <td>1054.646990</td>\n",
       "      <td>647.946069</td>\n",
       "      <td>1742.856197</td>\n",
       "      <td>1827.813347</td>\n",
       "      <td>612.607046</td>\n",
       "    </tr>\n",
       "    <tr>\n",
       "      <td>293329</td>\n",
       "      <td>4</td>\n",
       "      <td>3</td>\n",
       "      <td>1117</td>\n",
       "      <td>293330</td>\n",
       "      <td>3011170001</td>\n",
       "      <td>1</td>\n",
       "      <td>NaN</td>\n",
       "      <td>CITY OF NY/PARKS AND</td>\n",
       "      <td>Q1</td>\n",
       "      <td>526.0</td>\n",
       "      <td>...</td>\n",
       "      <td>4220.660551</td>\n",
       "      <td>3440.681778</td>\n",
       "      <td>529.920735</td>\n",
       "      <td>33.764083</td>\n",
       "      <td>4221.612704</td>\n",
       "      <td>7592.664739</td>\n",
       "      <td>6148.596170</td>\n",
       "      <td>859.519103</td>\n",
       "      <td>38.624579</td>\n",
       "      <td>7594.460758</td>\n",
       "    </tr>\n",
       "    <tr>\n",
       "      <td>85885</td>\n",
       "      <td>4</td>\n",
       "      <td>1</td>\n",
       "      <td>1254</td>\n",
       "      <td>85886</td>\n",
       "      <td>1012540010</td>\n",
       "      <td>10</td>\n",
       "      <td>NaN</td>\n",
       "      <td>PARKS AND RECREATION</td>\n",
       "      <td>Q1</td>\n",
       "      <td>4000.0</td>\n",
       "      <td>...</td>\n",
       "      <td>2995.630168</td>\n",
       "      <td>2691.093905</td>\n",
       "      <td>1203.577685</td>\n",
       "      <td>76.686369</td>\n",
       "      <td>3118.930652</td>\n",
       "      <td>8351.153221</td>\n",
       "      <td>3973.677691</td>\n",
       "      <td>1952.175004</td>\n",
       "      <td>87.725726</td>\n",
       "      <td>8803.752322</td>\n",
       "    </tr>\n",
       "  </tbody>\n",
       "</table>\n",
       "<p>10 rows × 166 columns</p>\n",
       "</div>"
      ],
      "text/plain": [
       "        TAXCLASS  B  BLOCK   RECORD        BBLE  LOT EASEMENT  \\\n",
       "632815         2  4   1842   632816  4018420001    1      NaN   \n",
       "1067359        1  5   7853  1067360  5078530085   85      NaN   \n",
       "776305         4  4   8010   776306  4080100001    1      NaN   \n",
       "565391         4  3   8590   565392  3085900700  700      NaN   \n",
       "920627         1  4  15577   920628  4155770029   29      NaN   \n",
       "915468        1B  4  14140   915469  4141400001    1      NaN   \n",
       "1067000        1  5   7812  1067001  5078120132  132      NaN   \n",
       "794104         1  4   8946   794105  4089460045   45      NaN   \n",
       "293329         4  3   1117   293330  3011170001    1      NaN   \n",
       "85885          4  1   1254    85886  1012540010   10      NaN   \n",
       "\n",
       "                         OWNER BLDGCL  LTFRONT  ...       VT2-d-1  \\\n",
       "632815      864163 REALTY, LLC     D9    157.0  ...  15686.015803   \n",
       "1067359                    NaN     B2      1.0  ...      0.535518   \n",
       "776305               TONY CHEN     Q9      6.0  ...     12.357743   \n",
       "565391    U S GOVERNMENT OWNRD     V9    117.0  ...  11842.789738   \n",
       "920627       PLUCHENIK, YAAKOV     A1     91.0  ...   1049.711978   \n",
       "915468   UNITED STATES OF AMER     V0    999.0  ...    291.088193   \n",
       "1067000    DRANOVSKY, VLADIMIR     A3     96.0  ...   2160.373254   \n",
       "794104    HAVEN BUILDERS, INC.     B1     37.0  ...   1708.298416   \n",
       "293329    CITY OF NY/PARKS AND     Q1    526.0  ...   4220.660551   \n",
       "85885     PARKS AND RECREATION     Q1   4000.0  ...   2995.630168   \n",
       "\n",
       "             VT2-d-2       VT2-d-3      VT2-d-4       VT2-d-5       VT3-d-1  \\\n",
       "632815   7458.827938  20939.737597   694.625638  17288.441317  23170.818249   \n",
       "1067359     0.337498      1.004298     1.049661      0.535518      0.417498   \n",
       "776305      4.342417      2.532355     1.008123     13.620164     18.254413   \n",
       "565391   4844.093744   1486.909399   449.802534  11845.461392  10652.163442   \n",
       "920627   1665.978271   2457.408893  2234.310919    993.419931    810.241284   \n",
       "915468    298.402986   2275.093845  2490.683439    177.061798    107.824939   \n",
       "1067000  1361.525092   4051.515183  2113.707777   2160.373254   1122.840687   \n",
       "794104   1119.594947   2570.446523  2685.535320   1039.115963   1054.646990   \n",
       "293329   3440.681778    529.920735    33.764083   4221.612704   7592.664739   \n",
       "85885    2691.093905   1203.577685    76.686369   3118.930652   8351.153221   \n",
       "\n",
       "             VT3-d-2       VT3-d-3      VT3-d-4       VT3-d-5  \n",
       "632815   8554.848009  81434.323963   908.838115  30577.013535  \n",
       "1067359     0.353475      1.021426     1.062439      0.417498  \n",
       "776305      6.218967      4.107420     1.106630     24.089155  \n",
       "565391   3296.555223   1205.866226   449.802534  10654.683175  \n",
       "920627   1392.233296   2499.318860  2396.636111    878.500674  \n",
       "915468     81.641541   2121.490642  2490.683439     62.631684  \n",
       "1067000   950.652364   2747.074595  1568.524412   1122.840687  \n",
       "794104    647.946069   1742.856197  1827.813347    612.607046  \n",
       "293329   6148.596170    859.519103    38.624579   7594.460758  \n",
       "85885    3973.677691   1952.175004    87.725726   8803.752322  \n",
       "\n",
       "[10 rows x 166 columns]"
      ]
     },
     "execution_count": 213,
     "metadata": {},
     "output_type": "execute_result"
    }
   ],
   "source": [
    "df.loc[[632815,1067359,776305,565391,920627,915468,1067000,794104,293329,85885], :]"
   ]
  },
  {
   "cell_type": "code",
   "execution_count": null,
   "metadata": {},
   "outputs": [],
   "source": [
    "original = pd.read_csv('NY property data.csv')"
   ]
  },
  {
   "cell_type": "code",
   "execution_count": null,
   "metadata": {},
   "outputs": [],
   "source": [
    "top10original = original.loc[[], :]\n",
    "top10original"
   ]
  },
  {
   "cell_type": "code",
   "execution_count": null,
   "metadata": {},
   "outputs": [],
   "source": [
    "top10original.to_excel('top10original.xlsx', index=True, header=True)"
   ]
  },
  {
   "cell_type": "code",
   "execution_count": null,
   "metadata": {},
   "outputs": [],
   "source": [
    "top10original1 = data.loc[[], :]\n",
    "top10original1"
   ]
  },
  {
   "cell_type": "code",
   "execution_count": null,
   "metadata": {},
   "outputs": [],
   "source": [
    "top10original1.to_excel('top10original1.xlsx', index=True, header=True)"
   ]
  },
  {
   "cell_type": "code",
   "execution_count": null,
   "metadata": {},
   "outputs": [],
   "source": [
    "normalized_pca_data.sort_values(by='s',axis=0,ascending=True).head(10)"
   ]
  },
  {
   "cell_type": "code",
   "execution_count": null,
   "metadata": {},
   "outputs": [],
   "source": [
    "lowest = data.loc[[], :]\n",
    "lowest"
   ]
  },
  {
   "cell_type": "code",
   "execution_count": null,
   "metadata": {},
   "outputs": [],
   "source": [
    "lowest.to_excel('lowest.xlsx', index=True, header=True)"
   ]
  },
  {
   "cell_type": "code",
   "execution_count": null,
   "metadata": {},
   "outputs": [],
   "source": []
  }
 ],
 "metadata": {
  "kernelspec": {
   "display_name": "Python 3",
   "language": "python",
   "name": "python3"
  },
  "language_info": {
   "codemirror_mode": {
    "name": "ipython",
    "version": 3
   },
   "file_extension": ".py",
   "mimetype": "text/x-python",
   "name": "python",
   "nbconvert_exporter": "python",
   "pygments_lexer": "ipython3",
   "version": "3.7.4"
  }
 },
 "nbformat": 4,
 "nbformat_minor": 2
}
